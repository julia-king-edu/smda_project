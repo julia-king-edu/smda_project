{
 "cells": [
  {
   "cell_type": "markdown",
   "metadata": {},
   "source": [
    "<div style=\"text-align: center;\" >\n",
    "<h1 style=\"margin-top: 0.2em; margin-bottom: 0.1em;\">Social Media Data Analysis - Final Project</h1>\n",
    "<h4 style=\"margin-top: 0.7em; margin-bottom: 0.3em; font-style:italic\">Data Collection</h2>\n",
    "<h4 style=\"margin-top: 0.7em; margin-bottom: 0.3em; font-style:italic\">Julia King</h4>\n",
    "</div>\n",
    "<br>"
   ]
  },
  {
   "cell_type": "code",
   "execution_count": 1,
   "metadata": {},
   "outputs": [],
   "source": [
    "# import chunk\n",
    "\n",
    "# own functions\n",
    "from common_functions import confirm_execution, read_search_json, write_search_json, read_video_json, write_video_json\n",
    "\n",
    "# general\n",
    "import numpy as np\n",
    "import pandas as pd\n",
    "import matplotlib.pyplot as plt\n",
    "import requests\n",
    "import json\n",
    "\n",
    "# youtube api\n",
    "from pytrends.request import TrendReq\n",
    "from copy import deepcopy\n",
    "from requests.exceptions import HTTPError\n"
   ]
  },
  {
   "cell_type": "markdown",
   "metadata": {},
   "source": [
    "# 1. Using google trends, determine spikes in public interest concerning 15-minute cities."
   ]
  },
  {
   "cell_type": "code",
   "execution_count": 2,
   "metadata": {},
   "outputs": [
    {
     "data": {
      "text/plain": [
       "[{'mid': '/g/11hk3_sx0c', 'title': '15-minute city', 'type': 'Topic'},\n",
       " {'mid': '/g/11f51x6b_s',\n",
       "  'title': 'Private Vegas',\n",
       "  'type': 'Book by James Patterson and Maxine Paetro'},\n",
       " {'mid': '/g/11vqrp46gt',\n",
       "  'title': 'Good People Break Bad Laws: Civil Disobedience in the Modern Age',\n",
       "  'type': 'Book by Topher Field'},\n",
       " {'mid': '/g/12bm1xq9d',\n",
       "  'title': 'Lonely Planet Berlin',\n",
       "  'type': 'Book by Andrea Schulte-Peevers'},\n",
       " {'mid': '/m/02_286', 'title': 'New York', 'type': 'City in New York State'}]"
      ]
     },
     "execution_count": 2,
     "metadata": {},
     "output_type": "execute_result"
    }
   ],
   "source": [
    "# obtain NID cookie to avoid TooManyRequestsError & obtain suggestions\n",
    "\n",
    "session = requests.Session()\n",
    "session.get('https://trends.google.com')\n",
    "cookies_map = session.cookies.get_dict()\n",
    "nid_cookie = cookies_map['NID']\n",
    "\n",
    "tr = TrendReq(hl = \"en-GB\", requests_args = {'headers': {'Cookie': f'NID={nid_cookie}'}}, retries = 5)\n",
    "sugs = tr.suggestions(\"15-minute city\")\n",
    "sugs"
   ]
  },
  {
   "cell_type": "code",
   "execution_count": 3,
   "metadata": {},
   "outputs": [
    {
     "data": {
      "text/plain": [
       "['/g/11hk3_sx0c']"
      ]
     },
     "execution_count": 3,
     "metadata": {},
     "output_type": "execute_result"
    }
   ],
   "source": [
    "# extract the relevant query term\n",
    "\n",
    "query_list = [sug[\"mid\"] for sug in sugs if (sug[\"title\"] == \"15-minute city\") and (sug[\"type\"] == \"Topic\")]\n",
    "\n",
    "query_list"
   ]
  },
  {
   "cell_type": "code",
   "execution_count": 4,
   "metadata": {},
   "outputs": [],
   "source": [
    "# build payload & obtain interest over time\n",
    "\n",
    "def get_interest_over_time(trendreq_obj : TrendReq, kw_list : list, timeframe : str, geo : str) -> pd.DataFrame:\n",
    "    \"\"\"Given a trendreq object and search queries, returns the google trends interest over time.\n",
    "\n",
    "    Args:\n",
    "        trendreq_obj (TrendReq): TrendReq object, allows for preconfigured hl and request_args to avoid TooManyRequestsError\n",
    "        kw_list (list): list of keywords to get trends for. Must be of length <= 5 due to google trends limit\n",
    "        timeframe (str): Timeframe in the format \"yyyy-mm-dd yyyy-mm-dd\" identifying start and end of the timeframe\n",
    "        geo (str): location code, ex US for USA and DE for Germany\n",
    "\n",
    "    Returns:\n",
    "        pd.DataFrame: Object returned by google trends\n",
    "    \"\"\"\n",
    "    \n",
    "    # make actual request\n",
    "    trendreq_obj.build_payload(kw_list = kw_list, timeframe = timeframe, geo = geo)\n",
    "    return trendreq_obj.interest_over_time()"
   ]
  },
  {
   "cell_type": "code",
   "execution_count": 5,
   "metadata": {},
   "outputs": [],
   "source": [
    "# get interest and save to csv\n",
    "\n",
    "gtrends_df = get_interest_over_time(tr, kw_list = query_list, timeframe = \"2020-01-01 2024-06-30\", geo = \"US\") # kw_list is query term for 15 minute city (topic). Using topic instead of search term to cover variants\n",
    "gtrends_df[\"date\"] = gtrends_df.index\n",
    "gtrends_df[\"volume\"] = gtrends_df.iloc[:,0]\n",
    "gtrends_df = gtrends_df[[\"date\", \"volume\"]]\n",
    "\n",
    "# save to csv\n",
    "gtrends_df.to_csv(\"data/gtrends.csv\", index = False)"
   ]
  },
  {
   "cell_type": "code",
   "execution_count": 6,
   "metadata": {},
   "outputs": [
    {
     "data": {
      "text/html": [
       "<div>\n",
       "<style scoped>\n",
       "    .dataframe tbody tr th:only-of-type {\n",
       "        vertical-align: middle;\n",
       "    }\n",
       "\n",
       "    .dataframe tbody tr th {\n",
       "        vertical-align: top;\n",
       "    }\n",
       "\n",
       "    .dataframe thead th {\n",
       "        text-align: right;\n",
       "    }\n",
       "</style>\n",
       "<table border=\"1\" class=\"dataframe\">\n",
       "  <thead>\n",
       "    <tr style=\"text-align: right;\">\n",
       "      <th></th>\n",
       "      <th>date</th>\n",
       "      <th>volume</th>\n",
       "    </tr>\n",
       "  </thead>\n",
       "  <tbody>\n",
       "    <tr>\n",
       "      <th>0</th>\n",
       "      <td>2019-12-29</td>\n",
       "      <td>0</td>\n",
       "    </tr>\n",
       "    <tr>\n",
       "      <th>1</th>\n",
       "      <td>2020-01-05</td>\n",
       "      <td>0</td>\n",
       "    </tr>\n",
       "    <tr>\n",
       "      <th>2</th>\n",
       "      <td>2020-01-12</td>\n",
       "      <td>0</td>\n",
       "    </tr>\n",
       "  </tbody>\n",
       "</table>\n",
       "</div>"
      ],
      "text/plain": [
       "        date  volume\n",
       "0 2019-12-29       0\n",
       "1 2020-01-05       0\n",
       "2 2020-01-12       0"
      ]
     },
     "execution_count": 6,
     "metadata": {},
     "output_type": "execute_result"
    }
   ],
   "source": [
    "# load from csv \n",
    "\n",
    "gtrends_df = pd.read_csv(\"data/gtrends.csv\")\n",
    "gtrends_df['date'] = pd.to_datetime(gtrends_df[\"date\"])\n",
    "\n",
    "gtrends_df.head(3)"
   ]
  },
  {
   "cell_type": "code",
   "execution_count": 7,
   "metadata": {},
   "outputs": [
    {
     "data": {
      "image/png": "[encoded data removed]",
      "text/plain": [
       "<Figure size 1200x600 with 1 Axes>"
      ]
     },
     "metadata": {},
     "output_type": "display_data"
    }
   ],
   "source": [
    "# create plot of google trends\n",
    "\n",
    "plt.figure(figsize = (12, 6))\n",
    "\n",
    "plt.plot(gtrends_df[\"date\"], gtrends_df[\"volume\"])\n",
    "\n",
    "# manual, rough first spike marker\n",
    "plt.axvspan(pd.to_datetime(\"2022-11-15\"), pd.to_datetime(\"2023-07-01\"), color = \"yellow\", alpha = 0.3)\n",
    "plt.annotate(\"First Spike\", xy = (pd.to_datetime(\"2023-02-17\"), gtrends_df.iloc[:, 1].max()),\n",
    "            xytext = (pd.to_datetime(\"2022-11-15\"), gtrends_df.iloc[:, 1].max() - 25),\n",
    "            arrowprops = dict(facecolor = \"black\", shrink = 0.05),\n",
    "            fontsize = 12)\n",
    "\n",
    "# Grid, legend + layout\n",
    "plt.title(\"Google Search Volume for \\\"15-minute city\\\" over Time\")\n",
    "plt.xlabel(\"Date\")\n",
    "plt.ylabel(\"Search Volume\")\n",
    "plt.grid(True)\n",
    "plt.tight_layout()\n",
    "\n",
    "plt.show()"
   ]
  },
  {
   "cell_type": "markdown",
   "metadata": {},
   "source": [
    "The plot shows 4 different \"phases\": \n",
    "1. The phase before the first spike, which is hypothesized to contain mostly educational videos on the concept of 15-minute cities.\n",
    "2. The first spike, which is hypothesized to be caused by content presenting 15-minute cities as a conspiracy.\n",
    "3. The second spike, which may be caused by mainstream media coverage of the conspiracy theories.\n",
    "4. The phase after both spikes, where search volume has returned to a steady, if slightly elevated, level.\n",
    "\n",
    "Thus, to identify the different phases, differences in rolling averages are checked. The splits should occur as follows:\n",
    "1. The differences turn from ~0 to positive, indicating the beginning of the first spike.\n",
    "2. The differences turn from negative to neutral and positive again, indicating the end of the first and beginning of the second spike.\n",
    "3. The differences turn neutral again, indicating the end of the spikes."
   ]
  },
  {
   "cell_type": "code",
   "execution_count": 8,
   "metadata": {},
   "outputs": [],
   "source": [
    "# identify \n",
    "from scipy.signal import find_peaks\n",
    "\n",
    "# compute differences in rolling averages\n",
    "gtrends_df[\"rolling_mean\"] = gtrends_df[\"volume\"].rolling(window = 6, center = False).mean().shift(-5)\n",
    "gtrends_df[\"mean_diff\"] = gtrends_df[\"rolling_mean\"].diff()"
   ]
  },
  {
   "cell_type": "code",
   "execution_count": 9,
   "metadata": {},
   "outputs": [
    {
     "data": {
      "text/plain": [
       "[164, 189]"
      ]
     },
     "execution_count": 9,
     "metadata": {},
     "output_type": "execute_result"
    }
   ],
   "source": [
    "# find peaks, which can then be used to find start (& end) of peaks\n",
    "\n",
    "peaks = list(find_peaks(gtrends_df[\"rolling_mean\"], \n",
    "                        height = gtrends_df[\"rolling_mean\"].quantile(0.9), \n",
    "                        distance = 10)[0])\n",
    "\n",
    "peaks"
   ]
  },
  {
   "cell_type": "code",
   "execution_count": 10,
   "metadata": {},
   "outputs": [
    {
     "data": {
      "image/png": "[encoded data removed]",
      "text/plain": [
       "<Figure size 1000x500 with 1 Axes>"
      ]
     },
     "metadata": {},
     "output_type": "display_data"
    }
   ],
   "source": [
    "# recreate plot to check validity of peaks\n",
    "\n",
    "plt.figure(figsize = (10, 5))\n",
    "plt.plot(gtrends_df[\"date\"], gtrends_df[\"volume\"])\n",
    "\n",
    "# add peaks\n",
    "for peak in peaks:\n",
    "    plt.axvline(x = gtrends_df.loc[peak, \"date\"], color = \"black\", linestyle = \"--\")\n",
    "\n",
    "# Grid, legend + layout\n",
    "plt.title(\"Google Search Volume for \\\"15-minute city\\\" over Time\")\n",
    "plt.xlabel(\"date\")\n",
    "plt.ylabel(\"search volume\")\n",
    "plt.grid(True)\n",
    "plt.tight_layout()\n",
    "\n",
    "plt.show()"
   ]
  },
  {
   "cell_type": "code",
   "execution_count": 11,
   "metadata": {},
   "outputs": [
    {
     "data": {
      "image/png": "[encoded data removed]",
      "text/plain": [
       "<Figure size 2000x600 with 1 Axes>"
      ]
     },
     "metadata": {},
     "output_type": "display_data"
    }
   ],
   "source": [
    "plt.figure(figsize = (20, 6))\n",
    "plt.plot(gtrends_df[\"rolling_mean\"])\n",
    "plt.xticks(np.arange(0, 250, 10.0), rotation = 45)\n",
    "plt.grid(True)"
   ]
  },
  {
   "cell_type": "code",
   "execution_count": 12,
   "metadata": {},
   "outputs": [],
   "source": [
    "# function for finding the first index from a given start point & end point that matches a condition\n",
    "\n",
    "def find_condition_index(series : pd.Series, condition, min_consecutive : int = 5, start : int = 0, end : int = None) -> int:\n",
    "    \"\"\"For a given series and condition, finds the first instance where a specified number of consecutive elements all meet the condition. Useful to identify the beginning / end of peaks.\n",
    "\n",
    "    Args:\n",
    "        series (pd.Series): Series to find the condition fulfilled in.\n",
    "        condition (callable): A function that takes a series & returns true/false for each element if it meets/does not meet the condition.\n",
    "        start (int, optional): The starting index to begin the search. Defaults to 0.\n",
    "        end (int, optional): The first index not to be searched any more. Defaults to None (end of the series).\n",
    "        n (int, optional): The number of consecutive elements that need to meet the condition. Defaults to 5.\n",
    "\n",
    "    Raises:\n",
    "        ValueError: If the start index is invalid.\n",
    "        ValueError: If no suitable index is found where the condition is met for the specified number of consecutive elements.\n",
    "\n",
    "    Returns:\n",
    "        int: The index of the first element where the condition is met for it and the following min_consecutive - 1 elements (min_consecutive in total).\n",
    "    \"\"\"\n",
    "    # check input validity\n",
    "    if (start < 0) or (start > (len(series) - 1)):\n",
    "        raise ValueError(\"Not a valid index\")\n",
    "    if (end is None):\n",
    "        end = len(series)\n",
    "    \n",
    "    # find index where it and the next n fulfil the condition\n",
    "    for i in range(start, min(len(series) - min_consecutive - 1, end)):\n",
    "        if all(condition(series.iloc[i:i + min_consecutive])):\n",
    "            return i\n",
    "    \n",
    "    # case where no index fits the description\n",
    "    raise ValueError(\"No fitting column found.\")"
   ]
  },
  {
   "cell_type": "code",
   "execution_count": 13,
   "metadata": {},
   "outputs": [],
   "source": [
    "# identify start of 1st peak -> differences going from ~0 to significant positive before peaks[0]\n",
    "\n",
    "phase_starts = [0, find_condition_index(gtrends_df[\"mean_diff\"], condition = lambda x: x > 1, end = peaks[0])]"
   ]
  },
  {
   "cell_type": "code",
   "execution_count": 14,
   "metadata": {},
   "outputs": [],
   "source": [
    "# identify start of 2nd peak -> differences going from negative to positive after peaks[0] and before peaks[1]\n",
    "\n",
    "phase_starts.append(find_condition_index(gtrends_df[\"mean_diff\"], condition = lambda x: x > 1, start = peaks[0], end = peaks[1]))"
   ]
  },
  {
   "cell_type": "code",
   "execution_count": 15,
   "metadata": {},
   "outputs": [],
   "source": [
    "# identify start of 2nd normal phase -> differences going from negative to ~0 after peaks[1]\n",
    "\n",
    "phase_starts.append(find_condition_index(gtrends_df[\"mean_diff\"], condition = lambda x: abs(x) < 1, start = peaks[1]))"
   ]
  },
  {
   "cell_type": "code",
   "execution_count": 16,
   "metadata": {},
   "outputs": [],
   "source": [
    "phases = [{\"start_index\": current, \n",
    "           \"end_index\": next_element - 1, \n",
    "           \"color\": color} for current, next_element, color in zip(phase_starts, \n",
    "                                                                   phase_starts[1:] + [len(gtrends_df) - 1], \n",
    "                                                                   [\"b\", \"r\", \"g\", \"y\"])]"
   ]
  },
  {
   "cell_type": "code",
   "execution_count": 17,
   "metadata": {},
   "outputs": [
    {
     "data": {
      "text/plain": [
       "[{'start_index': 0, 'end_index': 151, 'color': 'b'},\n",
       " {'start_index': 152, 'end_index': 183, 'color': 'r'},\n",
       " {'start_index': 184, 'end_index': 198, 'color': 'g'},\n",
       " {'start_index': 199, 'end_index': 234, 'color': 'y'}]"
      ]
     },
     "execution_count": 17,
     "metadata": {},
     "output_type": "execute_result"
    }
   ],
   "source": [
    "phases"
   ]
  },
  {
   "cell_type": "code",
   "execution_count": 18,
   "metadata": {},
   "outputs": [
    {
     "data": {
      "image/png": "[encoded data removed]",
      "text/plain": [
       "<Figure size 1200x600 with 1 Axes>"
      ]
     },
     "metadata": {},
     "output_type": "display_data"
    }
   ],
   "source": [
    "# plot again with the phases\n",
    "\n",
    "plt.figure(figsize = (12, 6))\n",
    "\n",
    "plt.plot(gtrends_df[\"date\"], gtrends_df[\"volume\"])\n",
    "\n",
    "# mark the different phases\n",
    "for sr_phase in phases:\n",
    "    plt.axvspan(pd.to_datetime(gtrends_df.loc[sr_phase[\"start_index\"], \"date\"]), gtrends_df.loc[sr_phase[\"end_index\"], \"date\"], color = sr_phase[\"color\"], alpha = 0.3)\n",
    "\n",
    "# Grid, legend + layout\n",
    "plt.title(\"Google Search Volume for \\\"15-minute city\\\" over Time\")\n",
    "plt.xlabel(\"Date\")\n",
    "plt.ylabel(\"Search Volume\")\n",
    "plt.grid(True)\n",
    "plt.tight_layout()\n",
    "\n",
    "plt.show()"
   ]
  },
  {
   "cell_type": "markdown",
   "metadata": {},
   "source": [
    "In order to prevent imbalanced group sizes and to avoid straining the api too much, the length of phase 1 will be limited to the maximum length of the other phases. This is done by moving the start of phase 1 forward."
   ]
  },
  {
   "cell_type": "code",
   "execution_count": 19,
   "metadata": {},
   "outputs": [
    {
     "data": {
      "text/plain": [
       "116"
      ]
     },
     "execution_count": 19,
     "metadata": {},
     "output_type": "execute_result"
    }
   ],
   "source": [
    "# limit phase 1\n",
    "\n",
    "duration = max(phase[\"end_index\"] - phase[\"start_index\"] for phase in phases[1:])\n",
    "phases[0][\"start_index\"] = phases[0][\"end_index\"] - duration\n",
    "\n",
    "phases[0][\"start_index\"]"
   ]
  },
  {
   "cell_type": "markdown",
   "metadata": {},
   "source": [
    "# 2. For the relevant timeframe, obtain the IDs of the most-viewed videos related to 15-minute cities per week."
   ]
  },
  {
   "cell_type": "markdown",
   "metadata": {},
   "source": [
    "## 2.1 general setup"
   ]
  },
  {
   "cell_type": "code",
   "execution_count": 20,
   "metadata": {},
   "outputs": [],
   "source": [
    "# get api key\n",
    "\n",
    "import api_keys # not included in repository, can be provided in an api_keys.py file\n",
    "api_key = api_keys.YOUTUBE"
   ]
  },
  {
   "cell_type": "code",
   "execution_count": 21,
   "metadata": {},
   "outputs": [
    {
     "data": {
      "text/plain": [
       "{'start_index': 116,\n",
       " 'end_index': 151,\n",
       " 'color': 'b',\n",
       " 'start_date': Timestamp('2022-03-20 00:00:00'),\n",
       " 'end_date': Timestamp('2022-11-26 23:59:59'),\n",
       " 'weeks': [(Timestamp('2022-03-20 00:00:00'),\n",
       "   Timestamp('2022-03-26 23:59:59')),\n",
       "  (Timestamp('2022-03-27 00:00:00'), Timestamp('2022-04-02 23:59:59')),\n",
       "  (Timestamp('2022-04-03 00:00:00'), Timestamp('2022-04-09 23:59:59')),\n",
       "  (Timestamp('2022-04-10 00:00:00'), Timestamp('2022-04-16 23:59:59')),\n",
       "  (Timestamp('2022-04-17 00:00:00'), Timestamp('2022-04-23 23:59:59')),\n",
       "  (Timestamp('2022-04-24 00:00:00'), Timestamp('2022-04-30 23:59:59')),\n",
       "  (Timestamp('2022-05-01 00:00:00'), Timestamp('2022-05-07 23:59:59')),\n",
       "  (Timestamp('2022-05-08 00:00:00'), Timestamp('2022-05-14 23:59:59')),\n",
       "  (Timestamp('2022-05-15 00:00:00'), Timestamp('2022-05-21 23:59:59')),\n",
       "  (Timestamp('2022-05-22 00:00:00'), Timestamp('2022-05-28 23:59:59')),\n",
       "  (Timestamp('2022-05-29 00:00:00'), Timestamp('2022-06-04 23:59:59')),\n",
       "  (Timestamp('2022-06-05 00:00:00'), Timestamp('2022-06-11 23:59:59')),\n",
       "  (Timestamp('2022-06-12 00:00:00'), Timestamp('2022-06-18 23:59:59')),\n",
       "  (Timestamp('2022-06-19 00:00:00'), Timestamp('2022-06-25 23:59:59')),\n",
       "  (Timestamp('2022-06-26 00:00:00'), Timestamp('2022-07-02 23:59:59')),\n",
       "  (Timestamp('2022-07-03 00:00:00'), Timestamp('2022-07-09 23:59:59')),\n",
       "  (Timestamp('2022-07-10 00:00:00'), Timestamp('2022-07-16 23:59:59')),\n",
       "  (Timestamp('2022-07-17 00:00:00'), Timestamp('2022-07-23 23:59:59')),\n",
       "  (Timestamp('2022-07-24 00:00:00'), Timestamp('2022-07-30 23:59:59')),\n",
       "  (Timestamp('2022-07-31 00:00:00'), Timestamp('2022-08-06 23:59:59')),\n",
       "  (Timestamp('2022-08-07 00:00:00'), Timestamp('2022-08-13 23:59:59')),\n",
       "  (Timestamp('2022-08-14 00:00:00'), Timestamp('2022-08-20 23:59:59')),\n",
       "  (Timestamp('2022-08-21 00:00:00'), Timestamp('2022-08-27 23:59:59')),\n",
       "  (Timestamp('2022-08-28 00:00:00'), Timestamp('2022-09-03 23:59:59')),\n",
       "  (Timestamp('2022-09-04 00:00:00'), Timestamp('2022-09-10 23:59:59')),\n",
       "  (Timestamp('2022-09-11 00:00:00'), Timestamp('2022-09-17 23:59:59')),\n",
       "  (Timestamp('2022-09-18 00:00:00'), Timestamp('2022-09-24 23:59:59')),\n",
       "  (Timestamp('2022-09-25 00:00:00'), Timestamp('2022-10-01 23:59:59')),\n",
       "  (Timestamp('2022-10-02 00:00:00'), Timestamp('2022-10-08 23:59:59')),\n",
       "  (Timestamp('2022-10-09 00:00:00'), Timestamp('2022-10-15 23:59:59')),\n",
       "  (Timestamp('2022-10-16 00:00:00'), Timestamp('2022-10-22 23:59:59')),\n",
       "  (Timestamp('2022-10-23 00:00:00'), Timestamp('2022-10-29 23:59:59')),\n",
       "  (Timestamp('2022-10-30 00:00:00'), Timestamp('2022-11-05 23:59:59')),\n",
       "  (Timestamp('2022-11-06 00:00:00'), Timestamp('2022-11-12 23:59:59')),\n",
       "  (Timestamp('2022-11-13 00:00:00'), Timestamp('2022-11-19 23:59:59')),\n",
       "  (Timestamp('2022-11-20 00:00:00'), Timestamp('2022-11-26 23:59:59'))]}"
      ]
     },
     "execution_count": 21,
     "metadata": {},
     "output_type": "execute_result"
    }
   ],
   "source": [
    "# generate a list of weeks for each phase\n",
    "\n",
    "def generate_weeks(start_date: pd.Timestamp, end_date: pd.Timestamp) -> list:\n",
    "    \"\"\"Given a start and end date, generates a list of weeks included in the range. Weeks do not overlap, last week is shortened to only go up to the end date.\n",
    "\n",
    "    Args:\n",
    "        start_date (pd.Timestamp): Start of timeframe to generate weeks of. Weeks always start on the weekday of start_date.\n",
    "        end_date (pd.Timestamp): Where to end timeframe. If this is not either exactly x weeks, 6 days, 23 hours, 59 minutes, 59 seconds OR exactly x weeks, 7 days after start date, then the last week will be shortened. \n",
    "\n",
    "    Returns:\n",
    "        list: List of weeks\n",
    "    \"\"\"\n",
    "    # input validation\n",
    "    if end_date <= start_date:\n",
    "        raise ValueError(\"End date must be greater than start date.\")\n",
    "    \n",
    "    weeks = []\n",
    "    current_start = start_date\n",
    "    \n",
    "    while current_start <= end_date:\n",
    "        current_end = current_start + pd.Timedelta(days = 6, hours = 23, minutes = 59, seconds = 59)\n",
    "        weeks.append((current_start, min(current_end, end_date)))\n",
    "        current_start = current_start + pd.Timedelta(days = 7)\n",
    "    \n",
    "    # Adjust the last tuple if needed\n",
    "    if weeks and weeks[-1][1] < end_date:\n",
    "        weeks[-1] = (weeks[-1][0], end_date)\n",
    "    \n",
    "    return weeks\n",
    "\n",
    "# add info to phases list\n",
    "for sr_phase in phases:\n",
    "    sr_phase[\"start_date\"] = gtrends_df.loc[sr_phase[\"start_index\"], \"date\"]\n",
    "    sr_phase[\"end_date\"] = gtrends_df.loc[sr_phase[\"end_index\"] + 1, \"date\"] - pd.Timedelta(seconds = 1) # do plus 1 so last week is covered as well\n",
    "    sr_phase[\"weeks\"] = generate_weeks(sr_phase[\"start_date\"], sr_phase[\"end_date\"])\n",
    "    \n",
    "# preview\n",
    "phases[0]"
   ]
  },
  {
   "cell_type": "markdown",
   "metadata": {},
   "source": [
    "## 2.2 prepare query parameters & results data structure"
   ]
  },
  {
   "cell_type": "markdown",
   "metadata": {},
   "source": [
    "This project, especially the search endpoint, will require a lot of requests. Thus, it will be necessary to save partial results and continue on the next day. A JSON structure is used to to this."
   ]
  },
  {
   "cell_type": "code",
   "execution_count": 22,
   "metadata": {},
   "outputs": [],
   "source": [
    "# define fixed parameters\n",
    "\n",
    "search_params_fixed = {\"key\" : api_key, \n",
    "                       \"q\" : \"15-minute city\", \n",
    "                       \"maxResults\" : 50, \n",
    "                       \"order\" : \"viewcount\", \n",
    "                       \"type\" : \"video\"}"
   ]
  },
  {
   "cell_type": "code",
   "execution_count": 23,
   "metadata": {},
   "outputs": [
    {
     "ename": "Exception",
     "evalue": "Execution aborted by user.",
     "output_type": "error",
     "traceback": [
      "\u001b[1;31m---------------------------------------------------------------------------\u001b[0m",
      "\u001b[1;31mException\u001b[0m                                 Traceback (most recent call last)",
      "Cell \u001b[1;32mIn[23], line 4\u001b[0m\n\u001b[0;32m      1\u001b[0m \u001b[38;5;66;03m# define list of dicts which will contain the results from search endpoint\u001b[39;00m\n\u001b[0;32m      2\u001b[0m \n\u001b[0;32m      3\u001b[0m \u001b[38;5;66;03m# avoid unintentional resets of the results dataset\u001b[39;00m\n\u001b[1;32m----> 4\u001b[0m confirm_execution(\u001b[38;5;124m\"\u001b[39m\u001b[38;5;124mDo you want to reset the results of the search endpoint? \u001b[39m\u001b[38;5;124m\"\u001b[39m)\n\u001b[0;32m      6\u001b[0m search_results \u001b[38;5;241m=\u001b[39m [{week: \u001b[38;5;28;01mNone\u001b[39;00m \u001b[38;5;28;01mfor\u001b[39;00m week \u001b[38;5;129;01min\u001b[39;00m phase[\u001b[38;5;124m\"\u001b[39m\u001b[38;5;124mweeks\u001b[39m\u001b[38;5;124m\"\u001b[39m]} \u001b[38;5;28;01mfor\u001b[39;00m phase \u001b[38;5;129;01min\u001b[39;00m phases] \u001b[38;5;66;03m# list structure to keep the phases separate, easier to track later\u001b[39;00m\n\u001b[0;32m      8\u001b[0m write_search_json(search_results)\n",
      "File \u001b[1;32mc:\\Users\\julia\\OneDrive\\uni\\12_so-24\\pol_social-media-data-analysis\\project\\common_functions.py:17\u001b[0m, in \u001b[0;36mconfirm_execution\u001b[1;34m(prompt)\u001b[0m\n\u001b[0;32m     14\u001b[0m reset \u001b[38;5;241m=\u001b[39m \u001b[38;5;28minput\u001b[39m(\u001b[38;5;124mf\u001b[39m\u001b[38;5;124m\"\u001b[39m\u001b[38;5;132;01m{\u001b[39;00mprompt\u001b[38;5;132;01m}\u001b[39;00m\u001b[38;5;124m (yes/anything else): \u001b[39m\u001b[38;5;124m\"\u001b[39m)\u001b[38;5;241m.\u001b[39mstrip()\u001b[38;5;241m.\u001b[39mlower()\n\u001b[0;32m     16\u001b[0m \u001b[38;5;28;01mif\u001b[39;00m reset \u001b[38;5;241m!=\u001b[39m \u001b[38;5;124m\"\u001b[39m\u001b[38;5;124myes\u001b[39m\u001b[38;5;124m\"\u001b[39m:\n\u001b[1;32m---> 17\u001b[0m     \u001b[38;5;28;01mraise\u001b[39;00m \u001b[38;5;167;01mException\u001b[39;00m(\u001b[38;5;124m\"\u001b[39m\u001b[38;5;124mExecution aborted by user.\u001b[39m\u001b[38;5;124m\"\u001b[39m)\n\u001b[0;32m     19\u001b[0m \u001b[38;5;28;01mreturn\u001b[39;00m\n",
      "\u001b[1;31mException\u001b[0m: Execution aborted by user."
     ]
    }
   ],
   "source": [
    "# define list of dicts which will contain the results from search endpoint\n",
    "\n",
    "# avoid unintentional resets of the results dataset\n",
    "confirm_execution(\"Do you want to reset the results of the search endpoint? \")\n",
    "\n",
    "search_results = [{week: None for week in phase[\"weeks\"]} for phase in phases] # list structure to keep the phases separate, easier to track later\n",
    "\n",
    "write_search_json(search_results)"
   ]
  },
  {
   "cell_type": "markdown",
   "metadata": {},
   "source": [
    "## 2.3 Make search requests"
   ]
  },
  {
   "cell_type": "code",
   "execution_count": 24,
   "metadata": {},
   "outputs": [],
   "source": [
    "# load results so far\n",
    "\n",
    "search_results = read_search_json()"
   ]
  },
  {
   "cell_type": "code",
   "execution_count": 25,
   "metadata": {},
   "outputs": [],
   "source": [
    "# define request functions. should requests only those weeks where no data has been generated yet.\n",
    "\n",
    "def fill_search_phase(phase_results: dict, fixed_params : dict) -> dict:\n",
    "    \"\"\"Given the results of a phase, makes requests for every week (/every key) until quota is reached or all weeks are done.\n",
    "\n",
    "    Args:\n",
    "        phase_results (dict): dict where keys are tuples of timestamps and values are None for those elements that still need requests.\n",
    "        fixed_params (dict): parameters to pass on alongside time limits.\n",
    "\n",
    "    Returns:\n",
    "        dict: phase results but updated\n",
    "    \"\"\"\n",
    "    \n",
    "    for daterange, value in phase_results.items():\n",
    "        if not(value is None): # the request was already successfully obtained, the week can be skipped\n",
    "            continue\n",
    "        # prepare params\n",
    "        current_params = fixed_params.copy()\n",
    "        current_params[\"publishedAfter\"] = daterange[0].strftime(\"%Y-%m-%dT%H:%M:%SZ\")\n",
    "        current_params[\"publishedBefore\"] = daterange[1].strftime(\"%Y-%m-%dT%H:%M:%SZ\")\n",
    "        \n",
    "        # make request & check validity\n",
    "        response = requests.get(url = \"https://www.googleapis.com/youtube/v3/search\", params = current_params)\n",
    "        if (response.ok):\n",
    "            phase_results[daterange] = response\n",
    "        else: # request not successful, likely due to quota constraints\n",
    "            print(f\"Error @ request for week {daterange} with params \\n {current_params}.\")\n",
    "            print(f\"Errorcode: {response.status_code}, meaning {response.reason}\")\n",
    "            return phase_results\n",
    "    return phase_results\n",
    "\n",
    "def fill_search_results(search_results: list, fixed_params : dict) -> list:\n",
    "    \"\"\"Given the search results list/json, makes requests for every week until quota is reached. Then returns the search results so they can be saved again. Skips those weeks where a result is already present.\n",
    "\n",
    "    Args:\n",
    "        search_results (list): json specified in section above, can already contain some results.\n",
    "        fixed_params (dict): parameters to pass on alongside time limits.\n",
    "\n",
    "    Returns:\n",
    "        list: search_results object filled in as much as possible.\n",
    "    \"\"\"\n",
    "    \n",
    "    sr_copy = deepcopy(search_results)\n",
    "    \n",
    "    for i in range(len(sr_copy)):\n",
    "        sr_copy[i] = fill_search_phase(sr_copy[i], fixed_params)\n",
    "    return sr_copy"
   ]
  },
  {
   "cell_type": "code",
   "execution_count": 26,
   "metadata": {},
   "outputs": [],
   "source": [
    "# define function that counts number of None entries still left in search results, purely for debugging & user info\n",
    "\n",
    "def count_none_search(search_results : list) -> int:\n",
    "    \"\"\"Given a list of dicts, counts the total number of keys with None values in the dicts.\n",
    "\n",
    "    Args:\n",
    "        search_results (list): list of dicts\n",
    "\n",
    "    Returns:\n",
    "        int: Nr. of None values in the dicts\n",
    "    \"\"\"\n",
    "    none_count = 0\n",
    "    for phase_result in search_results:\n",
    "        none_count = none_count + sum(1 for value in phase_result.values() if value is None)\n",
    "    return none_count"
   ]
  },
  {
   "cell_type": "code",
   "execution_count": 27,
   "metadata": {},
   "outputs": [
    {
     "name": "stdout",
     "output_type": "stream",
     "text": [
      "Nr. of None entries filled: 0. Nr. Remaining: 0.\n"
     ]
    }
   ],
   "source": [
    "# make requests\n",
    "\n",
    "# avoid unintentional usage of quotas\n",
    "confirm_execution(\"Do you want to fill in the remaining search results?\")\n",
    "\n",
    "# count number of nones before to later caluclate change\n",
    "none_count_before = count_none_search(search_results)\n",
    "\n",
    "search_results = fill_search_results(search_results, search_params_fixed)\n",
    "\n",
    "# count number of nones after & print number of entries filled\n",
    "none_count_after = count_none_search(search_results)\n",
    "\n",
    "print(f\"Nr. of None entries filled: {none_count_before - none_count_after}. Nr. Remaining: {none_count_after}.\")"
   ]
  },
  {
   "cell_type": "code",
   "execution_count": 28,
   "metadata": {},
   "outputs": [],
   "source": [
    "# function to extract json out of responses (was not done in requests function to minimize chance of errors from anythong other than requests, but is needed to save file as json)\n",
    "\n",
    "def responses_to_json(search_results : list) -> list:\n",
    "    \"\"\"\n",
    "    Converts all requests.Response objects in the input list to their JSON content.\n",
    "\n",
    "    Args:\n",
    "        search_results (list): A list of dictionaries where some values are requests.Response objects.\n",
    "\n",
    "    Returns:\n",
    "        list: A list of dictionaries with all requests.Response objects converted to JSON content.\n",
    "    \"\"\"      \n",
    "    sr_copy = deepcopy(search_results)\n",
    "    for phase_results in sr_copy:\n",
    "        for daterange, value in phase_results.items():\n",
    "            if isinstance(value, requests.Response):\n",
    "                phase_results[daterange] = value.json()\n",
    "    return sr_copy"
   ]
  },
  {
   "cell_type": "code",
   "execution_count": 29,
   "metadata": {},
   "outputs": [],
   "source": [
    "# convert responses to json format\n",
    "\n",
    "search_results = responses_to_json(search_results)"
   ]
  },
  {
   "cell_type": "code",
   "execution_count": 30,
   "metadata": {},
   "outputs": [],
   "source": [
    "# save search results\n",
    "\n",
    "write_search_json(search_results)"
   ]
  },
  {
   "cell_type": "markdown",
   "metadata": {},
   "source": [
    "# 3. Obtain relevant metadata and comments for the videos."
   ]
  },
  {
   "cell_type": "markdown",
   "metadata": {},
   "source": [
    "## 3.1 Preparing the data structure"
   ]
  },
  {
   "cell_type": "markdown",
   "metadata": {},
   "source": [
    "Since this is the data i will work with in the end, it will use a flattened structure when compared to the one above: \n",
    "\n",
    "video_json will be a list of dicts. Each dict will have the content \"phase\", \"week_start\", \"video_id\", \"metadata\" and \"comments\". The end of the week is not stored, as videos with the same week_start have the same week_end."
   ]
  },
  {
   "cell_type": "code",
   "execution_count": 31,
   "metadata": {},
   "outputs": [],
   "source": [
    "# load search results\n",
    "\n",
    "search_results = read_search_json()"
   ]
  },
  {
   "cell_type": "code",
   "execution_count": 32,
   "metadata": {},
   "outputs": [
    {
     "ename": "Exception",
     "evalue": "Execution aborted by user.",
     "output_type": "error",
     "traceback": [
      "\u001b[1;31m---------------------------------------------------------------------------\u001b[0m",
      "\u001b[1;31mException\u001b[0m                                 Traceback (most recent call last)",
      "Cell \u001b[1;32mIn[32], line 4\u001b[0m\n\u001b[0;32m      1\u001b[0m \u001b[38;5;66;03m# create data structure\u001b[39;00m\n\u001b[0;32m      2\u001b[0m \n\u001b[0;32m      3\u001b[0m \u001b[38;5;66;03m# avoid unintentional resets of the dataset\u001b[39;00m\n\u001b[1;32m----> 4\u001b[0m confirm_execution(\u001b[38;5;124m\"\u001b[39m\u001b[38;5;124mDo you want to reset the results of the video and comment data?\u001b[39m\u001b[38;5;124m\"\u001b[39m)\n\u001b[0;32m      6\u001b[0m video_json \u001b[38;5;241m=\u001b[39m []\n\u001b[0;32m      7\u001b[0m \u001b[38;5;28;01mfor\u001b[39;00m phase_nr, phase \u001b[38;5;129;01min\u001b[39;00m \u001b[38;5;28menumerate\u001b[39m(search_results):\n",
      "File \u001b[1;32mc:\\Users\\julia\\OneDrive\\uni\\12_so-24\\pol_social-media-data-analysis\\project\\common_functions.py:17\u001b[0m, in \u001b[0;36mconfirm_execution\u001b[1;34m(prompt)\u001b[0m\n\u001b[0;32m     14\u001b[0m reset \u001b[38;5;241m=\u001b[39m \u001b[38;5;28minput\u001b[39m(\u001b[38;5;124mf\u001b[39m\u001b[38;5;124m\"\u001b[39m\u001b[38;5;132;01m{\u001b[39;00mprompt\u001b[38;5;132;01m}\u001b[39;00m\u001b[38;5;124m (yes/anything else): \u001b[39m\u001b[38;5;124m\"\u001b[39m)\u001b[38;5;241m.\u001b[39mstrip()\u001b[38;5;241m.\u001b[39mlower()\n\u001b[0;32m     16\u001b[0m \u001b[38;5;28;01mif\u001b[39;00m reset \u001b[38;5;241m!=\u001b[39m \u001b[38;5;124m\"\u001b[39m\u001b[38;5;124myes\u001b[39m\u001b[38;5;124m\"\u001b[39m:\n\u001b[1;32m---> 17\u001b[0m     \u001b[38;5;28;01mraise\u001b[39;00m \u001b[38;5;167;01mException\u001b[39;00m(\u001b[38;5;124m\"\u001b[39m\u001b[38;5;124mExecution aborted by user.\u001b[39m\u001b[38;5;124m\"\u001b[39m)\n\u001b[0;32m     19\u001b[0m \u001b[38;5;28;01mreturn\u001b[39;00m\n",
      "\u001b[1;31mException\u001b[0m: Execution aborted by user."
     ]
    }
   ],
   "source": [
    "# create data structure\n",
    "\n",
    "# avoid unintentional resets of the dataset\n",
    "confirm_execution(\"Do you want to reset the results of the video and comment data?\")\n",
    "\n",
    "video_json = []\n",
    "for phase_nr, phase in enumerate(search_results):\n",
    "    for week_dates, results in phase.items():\n",
    "        if results[\"items\"]:  # Some weeks have no videos uploaded. in those weeks, dont add anything to the video_json\n",
    "            for result in results[\"items\"]:\n",
    "                video_info = {\n",
    "                    \"phase\": phase_nr,\n",
    "                    \"week_start\": week_dates[0],\n",
    "                    \"video_id\": result[\"id\"][\"videoId\"],\n",
    "                    \"metadata\": None, \n",
    "                    \"comments\": None\n",
    "                }\n",
    "                video_json.append(video_info)\n",
    "\n",
    "write_video_json(video_json)"
   ]
  },
  {
   "cell_type": "markdown",
   "metadata": {},
   "source": [
    "## 3.2 Requesting Video Information"
   ]
  },
  {
   "cell_type": "code",
   "execution_count": 33,
   "metadata": {},
   "outputs": [],
   "source": [
    "# load video data so far\n",
    "\n",
    "video_json = read_video_json()"
   ]
  },
  {
   "cell_type": "code",
   "execution_count": 34,
   "metadata": {},
   "outputs": [],
   "source": [
    "# define fixed parameters\n",
    "video_params_fixed = {\"key\" : api_key, \n",
    "                      \"part\" : \"contentDetails, id, liveStreamingDetails, localizations, recordingDetails, snippet, statistics, status, topicDetails\"} # requested all possible info to make sure i got everything that's needed. this does not increase the quota cost, so i see no reason not to do this."
   ]
  },
  {
   "cell_type": "code",
   "execution_count": 35,
   "metadata": {},
   "outputs": [],
   "source": [
    "# define function that counts number of None entries still left in metadata, purely for debugging & user info\n",
    "\n",
    "def count_none_video(video_json : list) -> int:\n",
    "    \"\"\"Given a list of dicts, counts the total number of dicts where the \"metadata\" and \"comments\" keys are filled with None values.\n",
    "\n",
    "    Args:\n",
    "        search_results (list): list of dicts\n",
    "\n",
    "    Returns:\n",
    "        dict: 2 integers representing the Nr. of dicts with None values in \"metadata\" and \"comments\" keys\n",
    "    \"\"\"\n",
    "    none_count = {\"metadata\" : 0, \"comments\" : 0}\n",
    "    for video in video_json:\n",
    "        if video[\"metadata\"] is None:\n",
    "            none_count[\"metadata\"] += 1\n",
    "        if video[\"comments\"] is None:\n",
    "            none_count[\"comments\"] += 1\n",
    "    return none_count"
   ]
  },
  {
   "cell_type": "code",
   "execution_count": 36,
   "metadata": {},
   "outputs": [],
   "source": [
    "# define request function\n",
    "\n",
    "def fill_vd_metadata(video_json: dict, fixed_params : dict) -> dict:\n",
    "    \"\"\"Given the video data, fills the metadata property of the dicts with request responses until error occurs.\n",
    "\n",
    "    Args:\n",
    "        phase_results (dict): list of dicts where each dict contains a \"video_id\" and a \"metadata\" to be filled\n",
    "        fixed_params (dict): parameters to pass on alongside time limits.\n",
    "\n",
    "    Returns:\n",
    "        dict: video data but updated\n",
    "    \"\"\"\n",
    "    \n",
    "    # copy video_json to not accidentally overwrite\n",
    "    vd_copy = deepcopy(video_json)\n",
    "    \n",
    "    to_remove = []\n",
    "    for i, video in enumerate(vd_copy):\n",
    "        if not(video[\"metadata\"] is None): # the request was already successfully obtained, the video can be skipped\n",
    "            continue\n",
    "        # prepare params\n",
    "        current_params = fixed_params.copy()\n",
    "        current_params[\"id\"] = video[\"video_id\"]\n",
    "        \n",
    "        # make request & check validity\n",
    "        response = requests.get(url = \"https://www.googleapis.com/youtube/v3/videos\", params = current_params)\n",
    "        if not(response.ok): # request not successful, likely due to quota constraints\n",
    "            print(f\"Error @ request for video {i} with id \\n {current_params['id']}.\")\n",
    "            print(f\"Errorcode: {response.status_code}, meaning {response.reason}\")\n",
    "            break\n",
    "        \n",
    "        # response is valid\n",
    "        # now extract the video data from the response\n",
    "        resp_json = response.json() # converting within the function this time, as each call only requires 1 token instead of 100 in search, so mistakes are less costly\n",
    "        \n",
    "        # check if video data was obtained. if not, remove the video from the list. this can occur if the uploader deleted the video\n",
    "        if (len(resp_json[\"items\"]) == 0):\n",
    "            to_remove.append(i)\n",
    "        else:\n",
    "            vd_copy[i][\"metadata\"] = resp_json[\"items\"][0]\n",
    "        print(f\"Video with id {video['video_id']} done!\")\n",
    "        \n",
    "    # remove all videos that were found to be unavailable & return\n",
    "    vd_copy_filtered = [video for index, video in enumerate(vd_copy) if index not in to_remove] \n",
    "    return vd_copy_filtered"
   ]
  },
  {
   "cell_type": "code",
   "execution_count": 37,
   "metadata": {},
   "outputs": [
    {
     "name": "stdout",
     "output_type": "stream",
     "text": [
      "Nr. of None entries filled: 0. Nr. Remaining: 0.\n"
     ]
    }
   ],
   "source": [
    "# run function\n",
    "\n",
    "confirm_execution(\"Do you want to fill in the remaining video metadata as much as possible?\")\n",
    "\n",
    "# count number of nones before to later caluclate change\n",
    "none_count_before = count_none_video(video_json)[\"metadata\"]\n",
    "\n",
    "video_json = fill_vd_metadata(video_json, fixed_params = video_params_fixed)\n",
    "\n",
    "# count number of nones after & print number of entries filled\n",
    "none_count_after = count_none_video(video_json)[\"metadata\"]\n",
    "\n",
    "print(f\"Nr. of None entries filled: {none_count_before - none_count_after}. Nr. Remaining: {none_count_after}.\")"
   ]
  },
  {
   "cell_type": "code",
   "execution_count": 38,
   "metadata": {},
   "outputs": [],
   "source": [
    "# save metadata results\n",
    "\n",
    "write_video_json(video_json)"
   ]
  },
  {
   "cell_type": "markdown",
   "metadata": {},
   "source": [
    "## 3.3 Comments"
   ]
  },
  {
   "cell_type": "code",
   "execution_count": 45,
   "metadata": {},
   "outputs": [],
   "source": [
    "# load video data so far\n",
    "\n",
    "video_json = read_video_json()"
   ]
  },
  {
   "cell_type": "code",
   "execution_count": 46,
   "metadata": {},
   "outputs": [],
   "source": [
    "# some videos will have no comments due to being assigned as \"for kids\" (or similar). In these cases, the api will return a 403: forbidden. \n",
    "# This is the same code that you get if the quota limit is hit, meaning i cannot automatically filter the two scenarios.\n",
    "# Thus, i will just assign an empty list to the \"comments\" attribute for the videos with 0 comments.\n",
    "# This will automatically cause them to not be requested.\n",
    "\n",
    "for i, video in enumerate(video_json):\n",
    "    statistics = video[\"metadata\"][\"statistics\"]\n",
    "    if \"commentCount\" not in statistics:\n",
    "        statistics[\"commentCount\"] = \"0\"\n",
    "    if int(statistics[\"commentCount\"]) == 0:\n",
    "        video_json[i][\"comments\"] = {}"
   ]
  },
  {
   "cell_type": "code",
   "execution_count": 47,
   "metadata": {},
   "outputs": [],
   "source": [
    "# define fixed parameters\n",
    "comment_params_fixed = {\"key\" : api_key, \n",
    "                      \"part\" : \"id, replies, snippet\", # requested all possible info to make sure i got everything that's needed. this does not increase the quota cost, so i see no reason not to do this.\n",
    "                      \"maxResults\" : 100, # max possible value\n",
    "                      \"order\" : \"time\", # other option was time, but that wouldnt \n",
    "                      \"textFormat\" : \"plainText\"} "
   ]
  },
  {
   "cell_type": "code",
   "execution_count": 48,
   "metadata": {},
   "outputs": [],
   "source": [
    "# the comments need to be requested in multiple pages. thus, one inner and one outer function are written. \n",
    "# inner function gets all comments for one video. outer function loops over the list and calls inner function for each video.\n",
    "# analysis was limited to top-level comments, as the aim of the analysis is to see the effect of the content type on the comments. thus, lower-level comments would be biased based on the tone of the top-level comment.\n",
    "# further, grabbing all comments was infeasible due to api constraints\n",
    "\n",
    "def get_toplevel_comments(video_id : str, fixed_params : dict) -> list:\n",
    "    \"\"\"Given a video id and parameters (including api key), returns all top-level comments of said video\n",
    "\n",
    "    Args:\n",
    "        video_id (str): video id of a youtube video\n",
    "        fixed_params (dict): should include at least the api key and part options given by youtube api\n",
    "\n",
    "    Returns:\n",
    "        list: list of all top-level comments\n",
    "    \"\"\"\n",
    "    \n",
    "    # prepare params\n",
    "    params = fixed_params.copy()\n",
    "    params[\"videoId\"] = video_id\n",
    "    \n",
    "    # gather comments\n",
    "    comments = {}\n",
    "    while True:\n",
    "        # get request & check validity. Raise error if invalid response.\n",
    "        response = requests.get(url = \"https://www.googleapis.com/youtube/v3/commentThreads\", params = params)\n",
    "        if not(response.ok): \n",
    "            raise HTTPError(f\"Error @ request for comments of video_id \\n {video_id}. Errorcode: {response.status_code}, meaning {response.reason}\")\n",
    "            # comments are purposefully not returned here, as i only want to save completed comment collections.\n",
    "        \n",
    "        # request received valid response, extract top comments and append comments dict\n",
    "        resp_json = response.json()\n",
    "        new_comments = {thread[\"snippet\"][\"topLevelComment\"][\"id\"] : thread[\"snippet\"][\"topLevelComment\"][\"snippet\"][\"textDisplay\"] for thread in resp_json[\"items\"]}\n",
    "        comments.update(new_comments)\n",
    "        \n",
    "        # check if current response completed the comment dict.\n",
    "        if \"nextPageToken\" in resp_json: # current comment \"page\" is not the last one -> update pageToken and loop once again\n",
    "            params[\"pageToken\"] = resp_json[\"nextPageToken\"]\n",
    "        else: # last page is reached and integrated, comments can be returned.\n",
    "            return comments\n",
    "\n",
    "def fill_vd_comments(video_json: dict, fixed_params : dict) -> dict:\n",
    "    \"\"\"Given the video data, fills the comments property of the dicts with request responses until error occurs.\n",
    "\n",
    "    Args:\n",
    "        phase_results (dict): list of dicts where each dict contains a \"video_id\" and a \"comments\" key to be filled\n",
    "        fixed_params (dict): parameters to pass on alongside time limits.\n",
    "\n",
    "    Returns:\n",
    "        dict: video data but updated\n",
    "    \"\"\"\n",
    "    \n",
    "    # copy video_json to not accidentally overwrite\n",
    "    vd_copy = deepcopy(video_json)\n",
    "    \n",
    "    for i, video in enumerate(vd_copy):\n",
    "        if not(video[\"comments\"] is None): # the request was already successfully obtained, the video can be skipped\n",
    "            continue\n",
    "        try:\n",
    "            vd_copy[i][\"comments\"] = get_toplevel_comments(video[\"video_id\"], fixed_params)\n",
    "            print(f\"Video with id {video['video_id']} done!\")\n",
    "        except HTTPError as e: # usually means quota limit was reached. Intermediate results are returned so the function can continue on the next day.\n",
    "            print(f\"HTTP Error occurred for video_id {video['video_id']}: {e}\")\n",
    "            return vd_copy  # Return the results processed so far\n",
    "        except Exception as e:\n",
    "            print(f\"Unexpected error occurred for video_id {video['video_id']}: {e}\")\n",
    "            return vd_copy  # Return the results processed so far\n",
    "    return vd_copy"
   ]
  },
  {
   "cell_type": "code",
   "execution_count": 49,
   "metadata": {},
   "outputs": [
    {
     "name": "stdout",
     "output_type": "stream",
     "text": [
      "Video with id 59hedeEa7_A done!\n",
      "Video with id 3BZfVBxIvQs done!\n",
      "Video with id reFg5h8KM-4 done!\n",
      "Video with id GR7XL52jI6Q done!\n",
      "Video with id bHrOI9Qss5o done!\n",
      "Video with id 1V5EtcHrXno done!\n",
      "Video with id _E_vlehr-cY done!\n",
      "Video with id GlGVU8ZfSLY done!\n",
      "Video with id cINJp7CAJlQ done!\n",
      "Video with id fL3kBh2RuCU done!\n",
      "Video with id gxtH-YUyxCk done!\n",
      "Video with id JCs7sn5-kAg done!\n",
      "Video with id dAq6Rh7wzyg done!\n",
      "Video with id QcNnT0dyiKU done!\n",
      "Video with id BB1MumAMpBc done!\n",
      "Video with id dynk2jc6M34 done!\n",
      "Video with id iYWUHyf6yCE done!\n",
      "Video with id QDJE8XzfihE done!\n",
      "Video with id 4TldD5umZkM done!\n",
      "Video with id aGKYh1VdqSo done!\n",
      "Video with id j0U1g7rNBco done!\n",
      "Video with id Yl5KPiZLJAY done!\n",
      "Video with id tRGbkkZ-_Uc done!\n",
      "Video with id t2SyjKf6nJ8 done!\n",
      "Video with id bYwryFB649Y done!\n",
      "Video with id vOAYO0rINhk done!\n",
      "Video with id dkLurfDNJfE done!\n",
      "Video with id oIyTWXKNVt8 done!\n",
      "Video with id AP0ZjuzmSso done!\n",
      "Video with id y6N1srpZ-zg done!\n",
      "Video with id mUDM0G49H8Q done!\n",
      "Video with id Md1F1HwL3oE done!\n",
      "Video with id ZCfCidBHe5A done!\n",
      "Video with id Cv9Ioz2asvk done!\n",
      "Video with id Q3d9qRw4Hp8 done!\n",
      "Video with id n0--AV7B2ow done!\n",
      "Video with id Ba-QGVkP--k done!\n",
      "Video with id c7tleJwGDs0 done!\n",
      "Video with id fiUbBISwkbQ done!\n",
      "Video with id OzCiS696tD0 done!\n",
      "Video with id VxQgNmiTVCw done!\n",
      "Video with id bgalhEmUD0Q done!\n",
      "Video with id QoV0LLmtQTQ done!\n",
      "Video with id MJqaZkdsdBg done!\n",
      "Video with id QOj5BFnjWYI done!\n",
      "Video with id x89Ip58XrjI done!\n",
      "Video with id NlAVlhc8UQo done!\n",
      "Video with id CSV8SzgHKtU done!\n",
      "Video with id 270vZzcyZZU done!\n",
      "Video with id ohuM7X0n9vg done!\n",
      "Video with id jqtHq7v-aIk done!\n",
      "Video with id 5F2JAqojCuY done!\n",
      "Video with id 5Qt5ofMJ2gI done!\n",
      "Video with id SuwBjY2WFbE done!\n",
      "Video with id kFWCcIwRBGs done!\n",
      "Video with id r1EQrO7sNEk done!\n",
      "Video with id bao1nw6tdp4 done!\n",
      "Video with id EBRdym9Tgds done!\n",
      "Video with id yLhe6xhG0JE done!\n",
      "Video with id h2giIgqLsho done!\n",
      "Video with id Li2RQBOJYPo done!\n",
      "Video with id 7eklT-VdKYU done!\n",
      "Video with id BezLAmZg0qQ done!\n",
      "Video with id Pw5GmPyArQM done!\n",
      "Video with id e9GVzTjESNU done!\n",
      "Video with id 7_2zvrQ1m4k done!\n",
      "Video with id KcbGr3Y877E done!\n",
      "Video with id 1DbR07fWdtY done!\n",
      "Video with id tuHaTWd2X0E done!\n",
      "Video with id F6xLy6W7rdc done!\n",
      "Video with id a_5lqlmJy2M done!\n",
      "Video with id oUvCvhUN1ok done!\n",
      "Video with id eZSt2xcOB2w done!\n",
      "Video with id FPpAz_U8IzM done!\n",
      "Video with id 6cmkALMGgrw done!\n",
      "Video with id 5QICCS-LxDo done!\n",
      "Video with id f4aYlyVqn6M done!\n",
      "Video with id MlxWn_1MQ5E done!\n",
      "Video with id DThwWJPVnAs done!\n",
      "Video with id iHGpvQ7k_8w done!\n",
      "Video with id 6Qg78Bmf1fk done!\n",
      "Video with id g_5gsN3B7Do done!\n",
      "Video with id E-ZT6hGl6jE done!\n",
      "Video with id jvckdTI-aD4 done!\n",
      "Video with id TzUnQZ3Xzv0 done!\n",
      "Video with id sNrC5olhZdc done!\n",
      "Video with id Hz4bwVGSONo done!\n",
      "Video with id WguZMVpv9Dw done!\n",
      "Video with id JNRsyUcgG2g done!\n",
      "Video with id Ka8NmHX-AKE done!\n",
      "Video with id ohiW40KpAh8 done!\n",
      "Video with id 1AzJiCNGx-c done!\n",
      "Video with id 1sFRINkLEuA done!\n",
      "Video with id Bx-AMt0peLY done!\n",
      "Video with id DpXqY_j1m1U done!\n",
      "Video with id WPuYXbBS9x8 done!\n",
      "Video with id sZjszwJ-ciE done!\n",
      "Video with id GFVL98RDMNo done!\n",
      "Video with id ysqSmuhu2jM done!\n",
      "Video with id nVLxUkVwgEU done!\n",
      "Video with id WfIfGg0l_rI done!\n",
      "Video with id 1ZKDs_qY4iY done!\n",
      "Video with id 50h351yxwjo done!\n",
      "Video with id v-8tL-xDCDM done!\n",
      "Video with id kMXe2SL7qe0 done!\n",
      "Video with id bNe8qwpLYEY done!\n",
      "Video with id fpbFxMZHq3o done!\n",
      "Video with id dospCWDLUz8 done!\n",
      "Video with id -wRLydxtKUg done!\n",
      "Video with id sAjhLZ62RwY done!\n",
      "Video with id hm3f13tIDgY done!\n",
      "Video with id m-HQ5HC6lvc done!\n",
      "Video with id 93Ksc7ZDG8o done!\n",
      "Video with id FEnngDzXs74 done!\n",
      "Video with id ONy5S5fkGQM done!\n",
      "Video with id RMALTIty2WE done!\n",
      "Video with id T76mnK57Sfc done!\n",
      "Video with id S1fD30xYPOc done!\n",
      "Video with id kf3xJMEf2Rg done!\n",
      "Video with id 6pTyrvD_Ddw done!\n",
      "Video with id E8JXSvS-uNk done!\n",
      "Video with id 6syYg7Z4XeU done!\n",
      "Video with id 6Z9dBYXRRdA done!\n",
      "Video with id B6tNLlkodqg done!\n",
      "Video with id kCCEvg2z_dg done!\n",
      "Video with id pf5F2dPHDtE done!\n",
      "Video with id px7R1GER1uA done!\n",
      "Video with id bBQusb-24m0 done!\n",
      "Video with id 5rnfWmdUQUY done!\n",
      "Video with id szZYAx-ttGA done!\n",
      "Video with id JFDGuqOz_Xg done!\n",
      "Video with id hkx8oOk03GU done!\n",
      "Video with id ZJTRHBX5CDw done!\n",
      "Video with id XY6OCdWj4UE done!\n",
      "Video with id YqjxnkS1NG4 done!\n",
      "Video with id YSs1ufjdE4M done!\n",
      "Video with id L5h_ueFPZk8 done!\n",
      "Video with id h3IePBMkfEI done!\n",
      "Video with id iogUW9tjyso done!\n",
      "Video with id iRfbrkMQAqk done!\n",
      "Video with id 9iPZc_lKGs0 done!\n",
      "Video with id LFV_aNCkZYM done!\n",
      "Video with id vjorvqUZ3j8 done!\n",
      "Video with id wHJo0d3s3NI done!\n",
      "Video with id DPtMP1KzRWo done!\n",
      "Video with id boZBzvlltzc done!\n",
      "Video with id U93Meg2pspk done!\n",
      "Video with id Gw4QcMawTPU done!\n",
      "Video with id j87pbq1kvwc done!\n",
      "Video with id h7zMH4dj_6s done!\n",
      "Video with id hBxKMRIelK8 done!\n",
      "Video with id UoXuePRNwoo done!\n",
      "Video with id APIU71SXGDA done!\n",
      "Video with id 9jZItIG0ZaU done!\n",
      "Video with id bZfWaAMaN0I done!\n",
      "Video with id ooCQwp9AjF0 done!\n",
      "Video with id oRmTqkJUNQg done!\n",
      "Video with id 7PtP1A5MnbA done!\n",
      "Video with id nwdEF8oks34 done!\n",
      "Video with id adP5xhDzEPs done!\n",
      "Video with id gAWqVe3etxs done!\n",
      "Video with id c-ALxmYXcLY done!\n",
      "Video with id Hhv3hNFz8g8 done!\n",
      "Video with id FHbIWhUM_z8 done!\n",
      "Video with id 6xH54wGn-Ho done!\n",
      "Video with id tJgTxJFqNJ8 done!\n",
      "Video with id b-3pT2giG38 done!\n",
      "Video with id HXoLNW5IcXM done!\n",
      "Video with id eEzAgG-AcFs done!\n",
      "Video with id vE84BJUd9T8 done!\n",
      "Video with id 3od1wHdveKE done!\n",
      "Video with id F8y8PQJsZIE done!\n",
      "Video with id vSWxVW97gw8 done!\n",
      "Video with id GB7lGHTxFGo done!\n",
      "Video with id -iN23zLVXug done!\n",
      "Video with id 9CTDDqThDb4 done!\n",
      "Video with id ENnrvqdgn7w done!\n",
      "Video with id YDg7noms2sQ done!\n",
      "Video with id cEVX4jR61qA done!\n",
      "Video with id yy3gvGszxDw done!\n",
      "Video with id 3LtvV02we9c done!\n",
      "Video with id JDqx1I1P438 done!\n",
      "Video with id GFC3Zu2t3dY done!\n",
      "Video with id tfGn3wtISIw done!\n",
      "Video with id 7DkIZ1gpqf4 done!\n",
      "Video with id EVjPGjKW46A done!\n",
      "Video with id kJ3Y0oQh_WA done!\n",
      "Video with id wEPwaQRcTTw done!\n",
      "Video with id Y54aMZPgG50 done!\n",
      "Video with id e5kAQXleaLg done!\n",
      "Video with id im6fM6cOC2M done!\n",
      "Video with id 2lHNkUjR9nM done!\n",
      "Video with id DJVLWPyXXvk done!\n",
      "Video with id wDsVWiXCZDA done!\n",
      "Video with id uTiVUyrM3Co done!\n",
      "Video with id LaUk6EZk4qE done!\n",
      "Video with id mwZD7MoMpLQ done!\n",
      "Video with id vsJaQsS-xU8 done!\n",
      "Video with id 0x1epKtrplg done!\n",
      "Video with id hWcZy_kviyc done!\n",
      "Video with id arLCW12uC1g done!\n",
      "Video with id nVc17I1VVHs done!\n",
      "Video with id CPayn_P6CIA done!\n",
      "Video with id KP58-GEagFI done!\n",
      "Video with id fmWctTpHiaM done!\n",
      "Video with id GZ27ykrJuYg done!\n",
      "Video with id -Ag7bPV33Ok done!\n",
      "Video with id -IfewzcYqWo done!\n",
      "Video with id iXsI82Zt-kI done!\n",
      "Video with id zsV_LJo2kWc done!\n",
      "Video with id KmkqSDo9bjE done!\n",
      "Video with id Do5GIbMo2sI done!\n",
      "Video with id cbo_pLje_Eo done!\n",
      "Video with id N2yppDkyO6o done!\n",
      "Video with id XOIHQMlsU4g done!\n",
      "Video with id szI7o2_YcC0 done!\n",
      "Video with id O3h-giEOp0A done!\n",
      "Video with id HtNzaMQwmPs done!\n",
      "Video with id wZsIpH53bUs done!\n",
      "Video with id Hsz1ziODeHY done!\n",
      "Video with id L9UUs1QfTLA done!\n",
      "Video with id szQnZkF0zMc done!\n",
      "Video with id 9EVWgwMfBsc done!\n",
      "Video with id vPkPz005dTc done!\n",
      "Video with id 5NL4olbDgvA done!\n",
      "Video with id YQGDIleQVxA done!\n",
      "Video with id d4zuOgmn_uI done!\n",
      "Video with id PF3rn7AI8qo done!\n",
      "Video with id tmm-xZUtPuo done!\n",
      "Video with id i3l4BYbLZdo done!\n",
      "Video with id spwFFDgNIWc done!\n",
      "Video with id dF-2xyiwzM4 done!\n",
      "Video with id n-0zJ5-d2Zw done!\n",
      "Video with id GjKWDItVYJU done!\n",
      "Video with id abXfFFJoHcI done!\n",
      "Video with id DJd47ObTwhg done!\n",
      "Video with id aAqqARRfxko done!\n",
      "Video with id LPRtLe_3yKk done!\n",
      "Video with id K7x_zkBaf_M done!\n",
      "Video with id 09Fk4cGHidg done!\n",
      "Video with id DIbZ984nlec done!\n",
      "Video with id V2NLQkO82XI done!\n",
      "Video with id i0x4YvjmGq0 done!\n",
      "Video with id skaWD8u3USc done!\n",
      "Video with id QdI9PVDmb0g done!\n",
      "Video with id mhgReNszmD0 done!\n",
      "Video with id i3zkWUtBGxw done!\n",
      "Video with id Jo5EAlLZ8RM done!\n",
      "Video with id r0OC1ZqAiec done!\n",
      "Video with id Gt-mF5vfuo0 done!\n",
      "Video with id Btk2loFps1c done!\n",
      "Video with id 124vjnd2bOw done!\n",
      "Video with id f1G3Yr5A0FM done!\n",
      "Video with id vaqBoO7NwfU done!\n",
      "Video with id E1hqnhKZT0w done!\n",
      "Video with id shDn-NeEYRw done!\n",
      "Video with id vxO_S8bSCcY done!\n",
      "Video with id nMje7AgEKuY done!\n",
      "Video with id DDIPX-vbxjU done!\n",
      "Video with id CzE726jNcgo done!\n",
      "Video with id al-abgQ4Pb0 done!\n",
      "Video with id BLA4DFhdNfY done!\n",
      "Video with id iqEZljS4ZFg done!\n",
      "Video with id 4iMGFuRSUW8 done!\n",
      "Video with id 47CXzszWFxc done!\n",
      "Video with id 3GjSu1jdzxc done!\n",
      "Video with id CHEFFwborKI done!\n",
      "Video with id 3wdus09KKyI done!\n",
      "Video with id tS1sl1z-4F0 done!\n",
      "Video with id RQGKEEX1Y6M done!\n",
      "Video with id xXFI1ZauBWc done!\n",
      "Video with id btEO7uFc-kc done!\n",
      "Video with id gaC6PfrzLnw done!\n",
      "Video with id LVXUuF5qlkk done!\n",
      "Video with id 3YM4ucwNqJ8 done!\n",
      "Video with id _0y-dLm7Xpk done!\n",
      "Video with id oboaMzrU4WU done!\n",
      "Video with id K0DQlQcCneI done!\n",
      "Video with id hP8pW8qWtT4 done!\n",
      "Video with id odO_KH10__o done!\n",
      "Video with id suacE3soy7g done!\n",
      "Video with id VSIXF0JvkYc done!\n",
      "Video with id WS3vEJ29ByM done!\n",
      "Video with id 0z3ACZ27dvA done!\n",
      "Video with id bA0mKTxvOdU done!\n",
      "Video with id kr9g0ZaZzUU done!\n",
      "Video with id zCu7t5pVpOg done!\n",
      "Video with id JCH_yUa05Sk done!\n",
      "Video with id zPMlOL__V7U done!\n",
      "Video with id VDZOxaiPiIY done!\n",
      "Video with id AnYqb99F_S8 done!\n",
      "Video with id RukgmrIKOKc done!\n",
      "Video with id IN__DFM9Piw done!\n",
      "Video with id qpBVEfO5IwI done!\n",
      "Video with id sD2XRvd9J74 done!\n",
      "Video with id j0uObGvL0tY done!\n",
      "Video with id PSSDgY7tZCQ done!\n",
      "Video with id 9XLgl5vbbkg done!\n",
      "Video with id 6Cqp5gC-UFE done!\n",
      "Video with id A_bwrTmFHX4 done!\n",
      "Video with id YU5c5MLv9bY done!\n",
      "Video with id bgRs4ldxkc0 done!\n",
      "Video with id vvckicOwXEA done!\n",
      "Video with id KcRxCgRr_ww done!\n",
      "Video with id JkdZvEVdR3I done!\n",
      "Video with id F1YCN46NeQ0 done!\n",
      "Video with id 1cQByu69zAk done!\n",
      "Video with id 79FOF0hPJs0 done!\n",
      "Video with id JKUZJmjQrug done!\n",
      "Video with id Lbi-LDn_AFk done!\n",
      "Video with id QR2VoNS5Pa4 done!\n",
      "Video with id zkdf5nyMRW0 done!\n",
      "Video with id v0lnI048Dzk done!\n",
      "Video with id f8QNQ0NGlPM done!\n",
      "Video with id T5e12F8WHK0 done!\n",
      "Video with id xVSdzSyW1n4 done!\n",
      "Video with id x7CMGLjSAys done!\n",
      "Video with id faKTUQgxlOc done!\n",
      "Video with id awYhRWuytco done!\n",
      "Video with id N2WhADwmxmQ done!\n",
      "Video with id XAnqMiN-_Ls done!\n",
      "Video with id YmS73lAWaWI done!\n",
      "Video with id RsFjAkL1K60 done!\n",
      "Video with id M5GcbNv_AQI done!\n",
      "Video with id OldQ1aAPOBg done!\n",
      "Video with id fj8Z2pWRPGI done!\n",
      "Video with id hB_gs10INg4 done!\n",
      "Video with id wM2oAzRxA2Y done!\n",
      "Video with id zIJ8vyyMDCQ done!\n",
      "Video with id MfuuK82cPI8 done!\n",
      "Video with id 3kuwD302sIs done!\n",
      "Video with id hV0_I7UXto4 done!\n",
      "Video with id FF39fBzheYU done!\n",
      "Video with id 1uqSp1y_QEA done!\n",
      "Video with id vI7e2r1aOoQ done!\n",
      "Video with id hrnauAIHwfU done!\n",
      "Video with id Ig5EZKfoTes done!\n",
      "Video with id jIJhzrXsGyo done!\n",
      "Video with id zOc75-pPzgk done!\n",
      "Video with id KnmGe4voBRw done!\n",
      "Video with id OKfdChi1zwI done!\n",
      "Video with id rnqGXXk-RPU done!\n",
      "Video with id CFM87X2AYBM done!\n",
      "Video with id zuObmG5kMsE done!\n",
      "Video with id VwRRdovu-g0 done!\n",
      "Video with id 8NaS4zdtQEo done!\n",
      "Video with id ZsWCXSvWV0k done!\n",
      "Video with id m81ybjFCgj4 done!\n",
      "Video with id n3u9Oax-dZs done!\n",
      "Video with id ku9tCCjYW6I done!\n",
      "Video with id kCvheHJ0LQk done!\n",
      "Video with id Cu2PRFvSvXU done!\n",
      "Video with id kaV14Y3hyTw done!\n",
      "Video with id 2ghF0QOdRFM done!\n",
      "Video with id MK5JNLnEYlU done!\n",
      "Video with id 12zh2a-_fTY done!\n",
      "Video with id 7K1xltYMiI8 done!\n",
      "Video with id isRTMU5Tugc done!\n",
      "Video with id eTUD4KsTgMU done!\n",
      "Video with id x9BD3w3Iins done!\n",
      "Video with id yHlrPfNisWY done!\n",
      "Video with id hpK7wYTATJg done!\n",
      "Video with id xmUnIGV0S7k done!\n",
      "Video with id 0kjFy4Ikk4s done!\n",
      "Video with id r09L_E-iWVM done!\n",
      "Video with id 091cpS8cqjA done!\n",
      "Video with id 7WMg3H-u8eA done!\n",
      "Video with id bBB5fz8NWzM done!\n",
      "Video with id YAWwlYYGn_8 done!\n",
      "Video with id RN-STgTI24I done!\n",
      "Video with id 2UKiojbBRGM done!\n",
      "Video with id kQBGpnATJW4 done!\n",
      "Video with id WTGExFkHhAE done!\n",
      "Video with id Ra-QMw16-F4 done!\n",
      "Video with id 9S_OFRZjcF8 done!\n",
      "Video with id X0LGLi7VQ4I done!\n",
      "Video with id fhCxQngoxNg done!\n",
      "Video with id OLdaIxaf0lU done!\n",
      "Video with id tSx23JvhwPI done!\n",
      "Video with id 5mSx-0anPM4 done!\n",
      "Video with id Arl0jqLVGzs done!\n",
      "Video with id DWVEYgDD6QI done!\n",
      "Video with id kzBFrjyJj_4 done!\n",
      "Video with id YAhbDU7nwp4 done!\n",
      "Video with id UZ4SfsyCBfI done!\n",
      "Video with id wbsbxsf89JM done!\n",
      "Video with id 9lGq5TxhTic done!\n",
      "Video with id zP77HScrxw0 done!\n",
      "Video with id gv2dDYpI0-4 done!\n",
      "Video with id VlmyF6-ofCY done!\n",
      "Video with id w5VjTdBLmFg done!\n",
      "Video with id kSfc4OtoaVs done!\n",
      "Video with id 9dZTc6Uj8dM done!\n",
      "Video with id xIUT6gkNbEo done!\n",
      "Video with id DISAvd2E3EM done!\n",
      "Video with id jpdbn6dnnAI done!\n",
      "Video with id 1EMdOjTL69M done!\n",
      "Video with id 3rkIznUKb_U done!\n",
      "Video with id 6h8qpnvYTLU done!\n",
      "Video with id WFvOq3dUiIo done!\n",
      "Video with id J9i71O3iFWk done!\n",
      "Video with id -b6w814wXvc done!\n",
      "Video with id nHgJuC_UIBQ done!\n",
      "Video with id wf-jshqERGM done!\n",
      "Video with id eLPqssrAqMY done!\n",
      "Video with id oss-y_rgi5A done!\n",
      "Video with id 7D0w-5LZo2U done!\n",
      "Video with id xgrpM0BiNsU done!\n",
      "Video with id AgUoFZO5ZIs done!\n",
      "Video with id PzvXx8qjHAU done!\n",
      "Video with id vXVQC3O4LbM done!\n",
      "Video with id WtWzw5szLWQ done!\n",
      "Video with id RzhHtr8qeTo done!\n",
      "Video with id WzB0OkEIyKk done!\n",
      "Video with id UGbvW6165pY done!\n",
      "Video with id O9LnDGPLnTw done!\n",
      "Video with id l6h6gl4EpvE done!\n",
      "Video with id MdsiF4kD9Bo done!\n",
      "Video with id UXeQzC9TMkM done!\n",
      "Nr. of None entries filled: 419. Nr. Remaining: 0.\n"
     ]
    }
   ],
   "source": [
    "# run function\n",
    "\n",
    "confirm_execution(\"Do you want to fill in the remaining video comments as much as possible?\")\n",
    "\n",
    "# count number of nones before to later caluclate change\n",
    "none_count_before = count_none_video(video_json)[\"comments\"]\n",
    "\n",
    "video_json = fill_vd_comments(video_json, fixed_params = comment_params_fixed)\n",
    "\n",
    "# count number of nones after & print number of entries filled\n",
    "none_count_after = count_none_video(video_json)[\"comments\"]\n",
    "\n",
    "print(f\"Nr. of None entries filled: {none_count_before - none_count_after}. Nr. Remaining: {none_count_after}.\")"
   ]
  },
  {
   "cell_type": "code",
   "execution_count": 51,
   "metadata": {},
   "outputs": [],
   "source": [
    "# save metadata results\n",
    "\n",
    "write_video_json(video_json)"
   ]
  }
 ],
 "metadata": {
  "kernelspec": {
   "display_name": "base",
   "language": "python",
   "name": "python3"
  },
  "language_info": {
   "codemirror_mode": {
    "name": "ipython",
    "version": 3
   },
   "file_extension": ".py",
   "mimetype": "text/x-python",
   "name": "python",
   "nbconvert_exporter": "python",
   "pygments_lexer": "ipython3",
   "version": "3.11.5"
  }
 },
 "nbformat": 4,
 "nbformat_minor": 2
}
