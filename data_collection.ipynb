{
 "cells": [
  {
   "cell_type": "markdown",
   "metadata": {},
   "source": [
    "<div style=\"text-align: center;\" >\n",
    "<h1 style=\"margin-top: 0.2em; margin-bottom: 0.1em;\">Social Media Data Analysis - Final Project</h1>\n",
    "<h4 style=\"margin-top: 0.7em; margin-bottom: 0.3em; font-style:italic\">Data Collection</h2>\n",
    "<h4 style=\"margin-top: 0.7em; margin-bottom: 0.3em; font-style:italic\">Julia King</h4>\n",
    "</div>\n",
    "<br>"
   ]
  },
  {
   "cell_type": "code",
   "execution_count": 18,
   "metadata": {},
   "outputs": [],
   "source": [
    "# setup chunk\n",
    "\n",
    "import pandas as pd\n",
    "import requests\n",
    "from pytrends.request import TrendReq\n",
    "import matplotlib.pyplot as plt"
   ]
  },
  {
   "cell_type": "markdown",
   "metadata": {},
   "source": [
    "# 1. Using google trends, determine spikes in public interest concerning 15-minute cities."
   ]
  },
  {
   "cell_type": "code",
   "execution_count": 47,
   "metadata": {},
   "outputs": [
    {
     "data": {
      "text/plain": [
       "[{'mid': '/g/11hk3_sx0c', 'title': '15-minute city', 'type': 'Topic'},\n",
       " {'mid': '/g/12bm1xq9d',\n",
       "  'title': 'Lonely Planet Berlin',\n",
       "  'type': 'Book by Andrea Schulte-Peevers'},\n",
       " {'mid': '/g/11vqrp46gt',\n",
       "  'title': 'Good People Break Bad Laws: Civil Disobedience in the Modern Age',\n",
       "  'type': 'Book by Topher Field'},\n",
       " {'mid': '/g/11f51x6b_s',\n",
       "  'title': 'Private Vegas',\n",
       "  'type': 'Book by James Patterson and Maxine Paetro'},\n",
       " {'mid': '/m/02_286', 'title': 'New York', 'type': 'City in New York State'}]"
      ]
     },
     "execution_count": 47,
     "metadata": {},
     "output_type": "execute_result"
    }
   ],
   "source": [
    "# obtain NID cookie to avoid TooManyRequestsError & obtain suggestions\n",
    "\n",
    "session = requests.Session()\n",
    "session.get('https://trends.google.com')\n",
    "cookies_map = session.cookies.get_dict()\n",
    "nid_cookie = cookies_map['NID']\n",
    "\n",
    "tr = TrendReq(hl = \"en-GB\", requests_args = {'headers': {'Cookie': f'NID={nid_cookie}'}}, retries = 5)\n",
    "sugs = tr.suggestions(\"15-minute city\")\n",
    "sugs"
   ]
  },
  {
   "cell_type": "code",
   "execution_count": 51,
   "metadata": {},
   "outputs": [
    {
     "data": {
      "text/plain": [
       "['/g/11hk3_sx0c']"
      ]
     },
     "execution_count": 51,
     "metadata": {},
     "output_type": "execute_result"
    }
   ],
   "source": [
    "# extract the relevant query term\n",
    "\n",
    "query_list = [sug[\"mid\"] for sug in sugs if (sug[\"title\"] == \"15-minute city\") and (sug[\"type\"] == \"Topic\")]\n",
    "\n",
    "query_list"
   ]
  },
  {
   "cell_type": "code",
   "execution_count": 21,
   "metadata": {},
   "outputs": [],
   "source": [
    "# build payload & obtain interest over time\n",
    "\n",
    "# need to iterate through the list because the kw_list is longer than 5 keywords, which is not accepted by google trends. thus, requests are done in 2 batches of 5\n",
    "\n",
    "def get_interest_over_time(trendreq_obj : TrendReq, kw_list : list, timeframe : str, geo : str) -> pd.DataFrame:\n",
    "    \"\"\"Given a trendreq object and search queries, returns the google trends interest over time.\n",
    "\n",
    "    Args:\n",
    "        trendreq_obj (TrendReq): TrendReq object, allows for preconfigured hl and request_args to avoid TooManyRequestsError\n",
    "        kw_list (list): list of keywords to get trends for. Must be of length <= 5 due to google trends limit\n",
    "        timeframe (str): Timeframe in the format \"yyyy-mm-dd yyyy-mm-dd\" identifying start and end of the timeframe\n",
    "        geo (str): location code, ex US for USA and DE for Germany\n",
    "\n",
    "    Returns:\n",
    "        pd.DataFrame: Object returned by google trends\n",
    "    \"\"\"\n",
    "    trendreq_obj.build_payload(kw_list = kw_list, timeframe = timeframe, geo = geo)\n",
    "    return trendreq_obj.interest_over_time()"
   ]
  },
  {
   "cell_type": "code",
   "execution_count": 59,
   "metadata": {},
   "outputs": [],
   "source": [
    "# get interest and save to csv\n",
    "gtrends_df = get_interest_over_time(tr, kw_list = query_list, timeframe = \"2020-01-01 2024-06-30\", geo = \"US\") # kw_list is query term for 15 minute city (topic). Using topic instead of search term to cover variants\n",
    "gtrends_df[\"date\"] = gtrends_df.index\n",
    "gtrends_df[\"volume\"] = gtrends_df.iloc[:,0]\n",
    "gtrends_df = gtrends_df[[\"date\", \"volume\"]]\n",
    "\n",
    "# save to csv\n",
    "gtrends_df.to_csv(\"data/gtrends.csv\", index = False)"
   ]
  },
  {
   "cell_type": "code",
   "execution_count": 60,
   "metadata": {},
   "outputs": [
    {
     "data": {
      "text/html": [
       "<div>\n",
       "<style scoped>\n",
       "    .dataframe tbody tr th:only-of-type {\n",
       "        vertical-align: middle;\n",
       "    }\n",
       "\n",
       "    .dataframe tbody tr th {\n",
       "        vertical-align: top;\n",
       "    }\n",
       "\n",
       "    .dataframe thead th {\n",
       "        text-align: right;\n",
       "    }\n",
       "</style>\n",
       "<table border=\"1\" class=\"dataframe\">\n",
       "  <thead>\n",
       "    <tr style=\"text-align: right;\">\n",
       "      <th></th>\n",
       "      <th>date</th>\n",
       "      <th>volume</th>\n",
       "    </tr>\n",
       "    <tr>\n",
       "      <th>date</th>\n",
       "      <th></th>\n",
       "      <th></th>\n",
       "    </tr>\n",
       "  </thead>\n",
       "  <tbody>\n",
       "    <tr>\n",
       "      <th>2019-12-29</th>\n",
       "      <td>2019-12-29</td>\n",
       "      <td>0</td>\n",
       "    </tr>\n",
       "    <tr>\n",
       "      <th>2020-01-05</th>\n",
       "      <td>2020-01-05</td>\n",
       "      <td>0</td>\n",
       "    </tr>\n",
       "    <tr>\n",
       "      <th>2020-01-12</th>\n",
       "      <td>2020-01-12</td>\n",
       "      <td>0</td>\n",
       "    </tr>\n",
       "    <tr>\n",
       "      <th>2020-01-19</th>\n",
       "      <td>2020-01-19</td>\n",
       "      <td>0</td>\n",
       "    </tr>\n",
       "    <tr>\n",
       "      <th>2020-01-26</th>\n",
       "      <td>2020-01-26</td>\n",
       "      <td>0</td>\n",
       "    </tr>\n",
       "    <tr>\n",
       "      <th>...</th>\n",
       "      <td>...</td>\n",
       "      <td>...</td>\n",
       "    </tr>\n",
       "    <tr>\n",
       "      <th>2024-06-02</th>\n",
       "      <td>2024-06-02</td>\n",
       "      <td>8</td>\n",
       "    </tr>\n",
       "    <tr>\n",
       "      <th>2024-06-09</th>\n",
       "      <td>2024-06-09</td>\n",
       "      <td>8</td>\n",
       "    </tr>\n",
       "    <tr>\n",
       "      <th>2024-06-16</th>\n",
       "      <td>2024-06-16</td>\n",
       "      <td>5</td>\n",
       "    </tr>\n",
       "    <tr>\n",
       "      <th>2024-06-23</th>\n",
       "      <td>2024-06-23</td>\n",
       "      <td>6</td>\n",
       "    </tr>\n",
       "    <tr>\n",
       "      <th>2024-06-30</th>\n",
       "      <td>2024-06-30</td>\n",
       "      <td>5</td>\n",
       "    </tr>\n",
       "  </tbody>\n",
       "</table>\n",
       "<p>236 rows × 2 columns</p>\n",
       "</div>"
      ],
      "text/plain": [
       "                 date  volume\n",
       "date                         \n",
       "2019-12-29 2019-12-29       0\n",
       "2020-01-05 2020-01-05       0\n",
       "2020-01-12 2020-01-12       0\n",
       "2020-01-19 2020-01-19       0\n",
       "2020-01-26 2020-01-26       0\n",
       "...               ...     ...\n",
       "2024-06-02 2024-06-02       8\n",
       "2024-06-09 2024-06-09       8\n",
       "2024-06-16 2024-06-16       5\n",
       "2024-06-23 2024-06-23       6\n",
       "2024-06-30 2024-06-30       5\n",
       "\n",
       "[236 rows x 2 columns]"
      ]
     },
     "execution_count": 60,
     "metadata": {},
     "output_type": "execute_result"
    }
   ],
   "source": [
    "gtrends_df"
   ]
  },
  {
   "cell_type": "code",
   "execution_count": 88,
   "metadata": {},
   "outputs": [
    {
     "data": {
      "text/html": [
       "<div>\n",
       "<style scoped>\n",
       "    .dataframe tbody tr th:only-of-type {\n",
       "        vertical-align: middle;\n",
       "    }\n",
       "\n",
       "    .dataframe tbody tr th {\n",
       "        vertical-align: top;\n",
       "    }\n",
       "\n",
       "    .dataframe thead th {\n",
       "        text-align: right;\n",
       "    }\n",
       "</style>\n",
       "<table border=\"1\" class=\"dataframe\">\n",
       "  <thead>\n",
       "    <tr style=\"text-align: right;\">\n",
       "      <th></th>\n",
       "      <th>date</th>\n",
       "      <th>volume</th>\n",
       "    </tr>\n",
       "  </thead>\n",
       "  <tbody>\n",
       "    <tr>\n",
       "      <th>0</th>\n",
       "      <td>2019-12-29</td>\n",
       "      <td>0</td>\n",
       "    </tr>\n",
       "    <tr>\n",
       "      <th>1</th>\n",
       "      <td>2020-01-05</td>\n",
       "      <td>0</td>\n",
       "    </tr>\n",
       "    <tr>\n",
       "      <th>2</th>\n",
       "      <td>2020-01-12</td>\n",
       "      <td>0</td>\n",
       "    </tr>\n",
       "  </tbody>\n",
       "</table>\n",
       "</div>"
      ],
      "text/plain": [
       "        date  volume\n",
       "0 2019-12-29       0\n",
       "1 2020-01-05       0\n",
       "2 2020-01-12       0"
      ]
     },
     "execution_count": 88,
     "metadata": {},
     "output_type": "execute_result"
    }
   ],
   "source": [
    "# load from csv \n",
    "\n",
    "gtrends_df = pd.read_csv(\"data/gtrends.csv\")\n",
    "gtrends_df['date'] = pd.to_datetime(gtrends_df[\"date\"])\n",
    "\n",
    "gtrends_df.head(3)"
   ]
  },
  {
   "cell_type": "code",
   "execution_count": 108,
   "metadata": {},
   "outputs": [
    {
     "data": {
      "image/png": "[encoded data removed]",
      "text/plain": [
       "<Figure size 1200x600 with 1 Axes>"
      ]
     },
     "metadata": {},
     "output_type": "display_data"
    }
   ],
   "source": [
    "# create plot of google trends\n",
    "\n",
    "fig, ax = plt.subplots(figsize = (12, 6))\n",
    "\n",
    "ax.plot(gtrends_df[\"date\"], gtrends_df.iloc[:, 1])\n",
    "\n",
    "# Highlight first spike\n",
    "ax.axvspan(pd.to_datetime(\"2022-11-15\"), pd.to_datetime(\"2023-07-01\"), color = \"yellow\", alpha = 0.3)\n",
    "\n",
    "# Adding annotations\n",
    "ax.annotate(\"First Spike\", xy = (pd.to_datetime(\"2023-02-17\"), gtrends_df.iloc[:, 1].max()),\n",
    "            xytext = (pd.to_datetime(\"2022-11-15\"), gtrends_df.iloc[:, 1].max() - 25),\n",
    "            arrowprops = dict(facecolor = \"black\", shrink = 0.05),\n",
    "            fontsize = 12)\n",
    "\n",
    "# Grid, legend, and layout adjustments\n",
    "ax.set_title(\"Google Search Volume for \\\"15-minute city\\\" over Time\", fontsize = 16)\n",
    "ax.set_xlabel(\"Date\", fontsize = 14)\n",
    "ax.set_ylabel(\"Value\", fontsize = 14)\n",
    "\n",
    "ax.grid(True)\n",
    "plt.tight_layout()\n",
    "\n",
    "# Show the plot\n",
    "plt.show()"
   ]
  },
  {
   "cell_type": "markdown",
   "metadata": {},
   "source": [
    "# 2. For the relevant timeframe, obtain the IDs of the most-viewed videos related to 15-minute cities per week."
   ]
  },
  {
   "cell_type": "markdown",
   "metadata": {},
   "source": [
    "# 3. Obtain relevant metadata and comments for the videos."
   ]
  },
  {
   "cell_type": "markdown",
   "metadata": {},
   "source": [
    "# 4. Based on the title and description, classify the a sample of the videos as conspirative or non-conspirative by hand."
   ]
  },
  {
   "cell_type": "markdown",
   "metadata": {},
   "source": [
    "# 5. Employ supervised text analysis to classify the dataset as conspirative or non-conspirative. Evaluate the performance."
   ]
  },
  {
   "cell_type": "markdown",
   "metadata": {},
   "source": [
    "# 6. Use the emotion classification model LEIA to obtain the sentiments expressed in the comments."
   ]
  },
  {
   "cell_type": "code",
   "execution_count": null,
   "metadata": {},
   "outputs": [],
   "source": []
  }
 ],
 "metadata": {
  "kernelspec": {
   "display_name": "base",
   "language": "python",
   "name": "python3"
  },
  "language_info": {
   "codemirror_mode": {
    "name": "ipython",
    "version": 3
   },
   "file_extension": ".py",
   "mimetype": "text/x-python",
   "name": "python",
   "nbconvert_exporter": "python",
   "pygments_lexer": "ipython3",
   "version": "3.11.5"
  }
 },
 "nbformat": 4,
 "nbformat_minor": 2
}
