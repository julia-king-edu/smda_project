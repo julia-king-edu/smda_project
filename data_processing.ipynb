{
 "cells": [
  {
   "cell_type": "markdown",
   "metadata": {},
   "source": [
    "<div style=\"text-align: center;\" >\n",
    "<h1 style=\"margin-top: 0.2em; margin-bottom: 0.1em;\">Social Media Data Analysis - Final Project</h1>\n",
    "<h4 style=\"margin-top: 0.7em; margin-bottom: 0.3em; font-style:italic\">Data Processing</h2>\n",
    "<h4 style=\"margin-top: 0.7em; margin-bottom: 0.3em; font-style:italic\">Julia King</h4>\n",
    "</div>\n",
    "<br>"
   ]
  },
  {
   "cell_type": "code",
   "execution_count": 1,
   "metadata": {},
   "outputs": [],
   "source": [
    "# import chunk\n",
    "\n",
    "from common_functions import confirm_execution, read_video_json\n",
    "\n",
    "import numpy as np\n",
    "import pandas as pd\n",
    "import matplotlib.pyplot as plt\n",
    "\n",
    "from data_collection import confirm_execution\n",
    "\n",
    "# manual sample\n",
    "import random\n",
    "import csv\n",
    "from sklearn.model_selection import train_test_split\n",
    "\n",
    "# tkinter app\n",
    "import tkinter as tk\n",
    "from tkinter import messagebox\n",
    "import pandas as pd\n",
    "import webbrowser\n"
   ]
  },
  {
   "cell_type": "markdown",
   "metadata": {},
   "source": [
    "# 4. Based on the title and description, classify a sample of the videos as conspirative or non-conspirative by hand."
   ]
  },
  {
   "cell_type": "code",
   "execution_count": 3,
   "metadata": {},
   "outputs": [],
   "source": [
    "# functions to read/write the manual sample\n",
    "\n",
    "def write_manual_sample(manual_sample : pd.DataFrame, filepath : str = \"data/manual_sample.csv\"):\n",
    "    \"\"\"Write the manual sample to a csv. Careful not to overwrite!\n",
    "\n",
    "    Args:\n",
    "        manual_sample (pd.DataFrame): manual sample\n",
    "        filepath (str, optional): file path to save to. Defaults to \"data/manual_sample.csv\".\n",
    "    \"\"\"\n",
    "    manual_sample.to_csv(filepath, index = False, quoting = csv.QUOTE_MINIMAL)\n",
    "    \n",
    "def read_manual_sample(filepath : str = \"data/manual_sample.csv\") -> pd.DataFrame:\n",
    "    \"\"\"Reads manual sample file, mostly here to complete the read/write function set.\n",
    "\n",
    "    Args:\n",
    "        filepath (str, optional): file path to manual sample file. Defaults to \"data/manual_sample.csv\".\n",
    "\n",
    "    Returns:\n",
    "        pd.DataFrame: maunual sample\n",
    "    \"\"\"\n",
    "    manual_sample = pd.read_csv(filepath)\n",
    "    manual_sample[\"conspirative\"] = pd.to_numeric(manual_sample[\"conspirative\"], errors = \"coerce\")\n",
    "    manual_sample[\"conspirative\"] = manual_sample[\"conspirative\"].astype(\"boolean\")\n",
    "    return manual_sample"
   ]
  },
  {
   "cell_type": "code",
   "execution_count": 4,
   "metadata": {},
   "outputs": [],
   "source": [
    "# function creating sample dataset\n",
    "\n",
    "def sample_videos(video_data: list, n : int = 250, seed : int = 94) -> pd.DataFrame:\n",
    "    # generate docstring by typing \"\"\"\n",
    "    \n",
    "    # get n random videos\n",
    "    random.seed(seed)\n",
    "    vd_sample = random.sample(video_data, k = n)\n",
    "    \n",
    "    # create df\n",
    "    sample = pd.DataFrame(data = {\n",
    "        \"video_id\" : [video[\"video_id\"] for video in vd_sample], \n",
    "        \"title\" : [video[\"metadata\"][\"snippet\"][\"title\"] for video in vd_sample], \n",
    "        \"description\" : [video[\"metadata\"][\"snippet\"][\"description\"] for video in vd_sample], \n",
    "        \"conspirative\" : pd.NA\n",
    "    })\n",
    "    return sample"
   ]
  },
  {
   "cell_type": "code",
   "execution_count": 5,
   "metadata": {},
   "outputs": [
    {
     "ename": "Exception",
     "evalue": "Execution aborted by user.",
     "output_type": "error",
     "traceback": [
      "\u001b[1;31m---------------------------------------------------------------------------\u001b[0m",
      "\u001b[1;31mException\u001b[0m                                 Traceback (most recent call last)",
      "Cell \u001b[1;32mIn[5], line 3\u001b[0m\n\u001b[0;32m      1\u001b[0m \u001b[38;5;66;03m# draw training sample\u001b[39;00m\n\u001b[1;32m----> 3\u001b[0m confirm_execution(\u001b[38;5;124m\"\u001b[39m\u001b[38;5;124mDo you want to reset the manually evaluated sample?\u001b[39m\u001b[38;5;124m\"\u001b[39m)\n\u001b[0;32m      5\u001b[0m manual_sample \u001b[38;5;241m=\u001b[39m sample_videos(video_data, n \u001b[38;5;241m=\u001b[39m \u001b[38;5;241m400\u001b[39m)\n\u001b[0;32m      7\u001b[0m write_manual_sample(manual_sample)\n",
      "Cell \u001b[1;32mIn[2], line 12\u001b[0m, in \u001b[0;36mconfirm_execution\u001b[1;34m(prompt)\u001b[0m\n\u001b[0;32m      9\u001b[0m reset \u001b[38;5;241m=\u001b[39m \u001b[38;5;28minput\u001b[39m(\u001b[38;5;124mf\u001b[39m\u001b[38;5;124m\"\u001b[39m\u001b[38;5;132;01m{\u001b[39;00mprompt\u001b[38;5;132;01m}\u001b[39;00m\u001b[38;5;124m (yes/anything else): \u001b[39m\u001b[38;5;124m\"\u001b[39m)\u001b[38;5;241m.\u001b[39mstrip()\u001b[38;5;241m.\u001b[39mlower()\n\u001b[0;32m     11\u001b[0m \u001b[38;5;28;01mif\u001b[39;00m reset \u001b[38;5;241m!=\u001b[39m \u001b[38;5;124m\"\u001b[39m\u001b[38;5;124myes\u001b[39m\u001b[38;5;124m\"\u001b[39m:\n\u001b[1;32m---> 12\u001b[0m     \u001b[38;5;28;01mraise\u001b[39;00m \u001b[38;5;167;01mException\u001b[39;00m(\u001b[38;5;124m\"\u001b[39m\u001b[38;5;124mExecution aborted by user.\u001b[39m\u001b[38;5;124m\"\u001b[39m)\n\u001b[0;32m     14\u001b[0m \u001b[38;5;28;01mreturn\u001b[39;00m\n",
      "\u001b[1;31mException\u001b[0m: Execution aborted by user."
     ]
    }
   ],
   "source": [
    "# draw training sample\n",
    "\n",
    "confirm_execution(\"Do you want to reset the manually evaluated sample?\")\n",
    "\n",
    "manual_sample = sample_videos(video_data, n = 400)\n",
    "\n",
    "write_manual_sample(manual_sample)"
   ]
  },
  {
   "cell_type": "code",
   "execution_count": 6,
   "metadata": {},
   "outputs": [],
   "source": [
    "# create tkinter app for labelling\n",
    "\n",
    "class ConspiracyLabeler:\n",
    "    def __init__(self, root, filepath):\n",
    "        self.root = root\n",
    "        self.filepath = filepath\n",
    "        self.df = read_manual_sample(self.filepath)\n",
    "        self.index = 0\n",
    "        self.prev_index = None\n",
    "\n",
    "        # display how many i still need to label\n",
    "        self.counter_label = tk.Label(root, text = \"\", font = (\"Arial\", 12))\n",
    "        self.counter_label.pack(pady = 10)\n",
    "\n",
    "        # create title display\n",
    "        self.root.title(\"Conspirative Labeler\")\n",
    "        self.title_label = tk.Label(root, text = \"\", font = (\"Arial\", 16))\n",
    "        self.title_label.pack(pady = 10)\n",
    "\n",
    "        # create scrollable description\n",
    "        self.desc_frame = tk.Frame(root)\n",
    "        self.desc_frame.pack(pady = 10, fill = \"both\", expand = True)\n",
    "        self.canvas = tk.Canvas(self.desc_frame, height = 100)  # Set an initial height for the canvas\n",
    "        self.scrollbar = tk.Scrollbar(self.desc_frame, orient = \"vertical\", command = self.canvas.yview)\n",
    "        self.scrollable_frame = tk.Frame(self.canvas)\n",
    "        \n",
    "        self.canvas.configure(yscrollcommand = self.scrollbar.set)\n",
    "        self.scrollbar.pack(side = \"right\", fill = \"y\")\n",
    "        self.canvas.pack(side = \"left\", fill = \"both\", expand = True)\n",
    "        self.canvas.create_window((0, 0), window = self.scrollable_frame, anchor = \"nw\")\n",
    "        self.scrollable_frame.bind(\"<Configure>\", lambda e: self.canvas.configure(scrollregion = self.canvas.bbox(\"all\")))\n",
    "\n",
    "        self.desc_label = tk.Label(self.scrollable_frame, text = \"\", wraplength = 400, justify = \"left\", font = (\"Arial\", 12))\n",
    "        self.desc_label.pack()\n",
    "\n",
    "        # add clickable link\n",
    "        self.link_label = tk.Label(root, text = \"Open video in browser\", fg = \"blue\", cursor = \"hand2\", font = (\"Arial\", 12))\n",
    "        self.link_label.pack(pady = 10)\n",
    "        self.link_label.bind(\"<Button-1>\", self.open_link)\n",
    "        \n",
    "        # other buttons\n",
    "        self.undo_button = tk.Button(root, text = \"Undo\", command = self.undo, width = 10, state = \"disabled\")\n",
    "        self.undo_button.pack(pady = 10)\n",
    "        \n",
    "        self.close_button = tk.Button(root, text = \"Save and Close\", command = self.shutdown, width = 12)\n",
    "        self.close_button.pack(pady = 10)\n",
    "\n",
    "        self.true_button = tk.Button(root, text = \"[c]onspirative\", command = lambda : self.label_conspiracy(True), width = 15)\n",
    "        self.true_button.pack(side = \"left\", padx = 20)\n",
    "\n",
    "        self.false_button = tk.Button(root, text = \"[n]on-conspirative\", command = lambda : self.label_conspiracy(False), width = 15)\n",
    "        self.false_button.pack(side = \"right\", padx = 20)\n",
    "\n",
    "        self.root.bind(\"c\", lambda event : self.label_conspiracy(True))\n",
    "        self.root.bind(\"n\", lambda event : self.label_conspiracy(False))\n",
    "        self.root.bind(\"<Configure>\", self.update_wraplength)\n",
    "\n",
    "        self.next()\n",
    "    \n",
    "    def shutdown(self, completed : bool = False):\n",
    "        \"\"\"Saves current dataframe to file and closes the app.\n",
    "        \n",
    "        Args:\n",
    "            completed (bool): Should be set to true if the shutdown was triggered due to the user finishing the labels.\n",
    "        \"\"\"\n",
    "        write_manual_sample(self.df, filepath = self.filepath)\n",
    "        if (completed):\n",
    "            messagebox.showinfo(\"Finished\", \"All videos have been labelled! \\nThe app will now close.\")\n",
    "        else:\n",
    "            messagebox.showinfo(\"Save successful!\", \"The app will now close. \\nSee you next time!\")\n",
    "        self.root.destroy()\n",
    "\n",
    "    def update_counter(self):\n",
    "        \"\"\"Updates the counter label with the number of labeled and remaining items.\n",
    "        \"\"\"\n",
    "        total_items = len(self.df)\n",
    "        labeled_items = len(self.df.dropna(subset = [\"conspirative\"]))\n",
    "        remaining_items = total_items - labeled_items\n",
    "        self.counter_label.config(text = f\"Labeled: {labeled_items} / Remaining: {remaining_items}\")\n",
    "    \n",
    "    def update_wraplength(self, event):\n",
    "        \"\"\"Updates the wraplength of the description based on the window width. Purely for aesthetics\n",
    "        \"\"\"\n",
    "        new_width = self.canvas.winfo_width() - 20  # padding\n",
    "        self.desc_label.config(wraplength = new_width)\n",
    "\n",
    "    def update_index(self):\n",
    "        \"\"\"Finds the next row without an evaluation and sets the indexes accordingly.\n",
    "        \"\"\"\n",
    "        self.prev_index = self.index\n",
    "        for next_i in range(0, len(self.df)): # could've started the range at self.index as well, but this takes basically no time anyway and is safer.\n",
    "            if (pd.isna(self.df.loc[next_i, \"conspirative\"])):\n",
    "                self.index = next_i\n",
    "                return\n",
    "        self.index = None\n",
    "        return\n",
    "    \n",
    "    def update_display(self):\n",
    "        \"\"\"Update the title and description to evaluate.\n",
    "        \"\"\"\n",
    "        self.title_label.config(text = self.df.loc[self.index, \"title\"])\n",
    "        self.desc_label.config(text = self.df.loc[self.index, \"description\"])\n",
    "        self.update_counter()\n",
    "    \n",
    "    def undo(self):\n",
    "        \"\"\"Undoes the last evaluation & returns to the corresponding row.\n",
    "\n",
    "        Raises:\n",
    "            ValueError: Triggered if no previous index is available.\n",
    "        \"\"\"\n",
    "        if (self.prev_index is None):\n",
    "            raise ValueError(\"Undo was triggered without a previous action. This should not be possible.\")\n",
    "        self.df.at[self.prev_index, \"conspirative\"] = pd.NA\n",
    "        self.index = self.prev_index\n",
    "        self.prev_index = None\n",
    "        self.undo_button[\"state\"] = \"disabled\"\n",
    "        self.update_display()\n",
    "    \n",
    "    def next(self):\n",
    "        \"\"\"Finds & displays the next unevaluated row.\n",
    "        \"\"\"\n",
    "        self.update_index()\n",
    "        self.undo_button[\"state\"] = \"normal\"\n",
    "        if not(self.index is None):\n",
    "            self.update_display()\n",
    "        else:\n",
    "            self.shutdown(completed = True)\n",
    "        return\n",
    "\n",
    "    def label_conspiracy(self, value : bool):\n",
    "        \"\"\"Sets the label according to the pressed button\n",
    "\n",
    "        Args:\n",
    "            value (bool): True if conspirative, False otherwise.\n",
    "        \"\"\"\n",
    "        self.df.at[self.index, \"conspirative\"] = value\n",
    "        self.next()\n",
    "\n",
    "    def open_link(self, event):\n",
    "        \"\"\"Opens the video in a new browser tab\n",
    "\n",
    "        Args:\n",
    "            event (_type_): unused, necessary bc of tkinter\n",
    "        \"\"\"\n",
    "        video_id = self.df.loc[self.index, \"video_id\"]\n",
    "        video_url = f\"https://www.youtube.com/watch?v={video_id}\"\n",
    "        webbrowser.open_new(video_url)\n",
    "\n",
    "def launch_ConspiracyLabeler(filepath : str):\n",
    "    \"\"\"Launches the Conspiracy labeller to manually evaluate the videos.\n",
    "\n",
    "    Args:\n",
    "        filepath (str): relative path to manual sample.\n",
    "    \"\"\"\n",
    "    label_root = tk.Tk()\n",
    "    label_app = ConspiracyLabeler(label_root, filepath = filepath)\n",
    "    label_root.mainloop()"
   ]
  },
  {
   "cell_type": "code",
   "execution_count": 9,
   "metadata": {},
   "outputs": [],
   "source": [
    "# confirm and launch\n",
    "\n",
    "confirm_execution(\"Do you want to launch the labelling tool?\")\n",
    "\n",
    "launch_ConspiracyLabeler(\"data/manual_sample.csv\")"
   ]
  },
  {
   "cell_type": "markdown",
   "metadata": {},
   "source": [
    "# 5. Employ supervised text analysis to classify the dataset as conspirative or non-conspirative. Evaluate the performance."
   ]
  },
  {
   "cell_type": "markdown",
   "metadata": {},
   "source": [
    "## 5.1 Create video metadata dataframe\n",
    "\n",
    "This will include all relevant video-level variables. "
   ]
  },
  {
   "cell_type": "code",
   "execution_count": null,
   "metadata": {},
   "outputs": [],
   "source": []
  },
  {
   "cell_type": "code",
   "execution_count": 8,
   "metadata": {},
   "outputs": [
    {
     "ename": "NameError",
     "evalue": "name 'video_data' is not defined",
     "output_type": "error",
     "traceback": [
      "\u001b[1;31m---------------------------------------------------------------------------\u001b[0m",
      "\u001b[1;31mNameError\u001b[0m                                 Traceback (most recent call last)",
      "Cell \u001b[1;32mIn[8], line 1\u001b[0m\n\u001b[1;32m----> 1\u001b[0m vd_nocomments \u001b[38;5;241m=\u001b[39m [{key : value \u001b[38;5;28;01mfor\u001b[39;00m key, value \u001b[38;5;129;01min\u001b[39;00m video\u001b[38;5;241m.\u001b[39mitems() \u001b[38;5;28;01mif\u001b[39;00m key \u001b[38;5;241m!=\u001b[39m \u001b[38;5;124m\"\u001b[39m\u001b[38;5;124mcomments\u001b[39m\u001b[38;5;124m\"\u001b[39m} \u001b[38;5;28;01mfor\u001b[39;00m video \u001b[38;5;129;01min\u001b[39;00m video_data]\n",
      "\u001b[1;31mNameError\u001b[0m: name 'video_data' is not defined"
     ]
    }
   ],
   "source": [
    "vd_nocomments = [{key : value for key, value in video.items() if key != \"comments\"} for video in video_data]"
   ]
  },
  {
   "cell_type": "code",
   "execution_count": null,
   "metadata": {},
   "outputs": [
    {
     "data": {
      "text/plain": [
       "Index(['phase', 'week_start', 'video_id', 'metadata.kind', 'metadata.etag',\n",
       "       'metadata.id', 'metadata.snippet.publishedAt',\n",
       "       'metadata.snippet.channelId', 'metadata.snippet.title',\n",
       "       'metadata.snippet.description',\n",
       "       ...\n",
       "       'metadata.localizations.es-ES.title',\n",
       "       'metadata.localizations.es-ES.description',\n",
       "       'metadata.localizations.sh.title',\n",
       "       'metadata.localizations.sh.description',\n",
       "       'metadata.localizations.ik.title',\n",
       "       'metadata.localizations.ik.description',\n",
       "       'metadata.localizations.iu.title',\n",
       "       'metadata.localizations.iu.description',\n",
       "       'metadata.localizations.da.title',\n",
       "       'metadata.localizations.da.description'],\n",
       "      dtype='object', length=362)"
      ]
     },
     "metadata": {},
     "output_type": "display_data"
    }
   ],
   "source": [
    "pd.json_normalize(vd_nocomments).columns"
   ]
  },
  {
   "cell_type": "code",
   "execution_count": null,
   "metadata": {},
   "outputs": [],
   "source": []
  },
  {
   "cell_type": "markdown",
   "metadata": {},
   "source": [
    "# 6. Use the emotion classification model LEIA to obtain the sentiments expressed in the comments."
   ]
  },
  {
   "cell_type": "code",
   "execution_count": null,
   "metadata": {},
   "outputs": [],
   "source": []
  },
  {
   "cell_type": "code",
   "execution_count": null,
   "metadata": {},
   "outputs": [],
   "source": []
  }
 ],
 "metadata": {
  "kernelspec": {
   "display_name": "base",
   "language": "python",
   "name": "python3"
  },
  "language_info": {
   "codemirror_mode": {
    "name": "ipython",
    "version": 3
   },
   "file_extension": ".py",
   "mimetype": "text/x-python",
   "name": "python",
   "nbconvert_exporter": "python",
   "pygments_lexer": "ipython3",
   "version": "3.11.5"
  }
 },
 "nbformat": 4,
 "nbformat_minor": 2
}
